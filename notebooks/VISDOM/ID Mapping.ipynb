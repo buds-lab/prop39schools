{
 "cells": [
  {
   "cell_type": "markdown",
   "metadata": {},
   "source": [
    "## ID Mapping"
   ]
  },
  {
   "cell_type": "markdown",
   "metadata": {},
   "source": [
    "This notebook explores the relationship between 'customers', schools sites, account_uuids and meter_uuids in the prop 39 data. \n",
    "\n",
    "In general, an account_uuid generally corresponds with an individual school, although there are some exceptions (which generally look to be typos and other data quality issues). \n",
    "\n",
    "'Customers' may be school districts or other entities, but may also be schools themselves. \n",
    "\n",
    "There is a strictly heirarchical tree relationship between the following three columns:\n",
    "\n",
    "```\n",
    "customer_name > account_uuid > meter_uuid\n",
    "```"
   ]
  },
  {
   "cell_type": "markdown",
   "metadata": {},
   "source": [
    "Other notes from looking at the PEPS_Data.xlsx definitions table:\n",
    "\n",
    "* LEA (Local Educational Agency) may point to a school but may also point to a district, probably not useful for matching to a meter\n",
    "* \"Site CDS Code\" = \"The unique identifying code based on the CDS code for the school or district facility.\" If this is available in the xml files, we should grab it from there"
   ]
  },
  {
   "cell_type": "markdown",
   "metadata": {},
   "source": [
    "### Notebook Config"
   ]
  },
  {
   "cell_type": "code",
   "execution_count": 1,
   "metadata": {
    "collapsed": true
   },
   "outputs": [],
   "source": [
    "db_pass = \"\"\n",
    "with open('data_db.cfg','r') as f:\n",
    "    for line in f:\n",
    "        s = line.split(\"=\")\n",
    "        if s[0].strip() == \"user\":\n",
    "            db_user = s[1].strip()\n",
    "        if s[0].strip() == \"pass\":\n",
    "            db_pass = \":\" + s[1].strip()\n",
    "        if s[0].strip() == \"db\":\n",
    "            db_db = s[1].strip()"
   ]
  },
  {
   "cell_type": "code",
   "execution_count": 2,
   "metadata": {
    "collapsed": true
   },
   "outputs": [],
   "source": [
    "%matplotlib inline\n",
    "import pandas as pd\n",
    "import numpy as np\n",
    "import mysql.connector, os, datetime\n",
    "from sqlalchemy import create_engine"
   ]
  },
  {
   "cell_type": "code",
   "execution_count": 3,
   "metadata": {
    "collapsed": true
   },
   "outputs": [],
   "source": [
    "engine = create_engine('mysql+mysqlconnector://' + db_user + db_pass + '@localhost/' + db_db, echo=False)\n",
    "conn = engine.connect()"
   ]
  },
  {
   "cell_type": "markdown",
   "metadata": {},
   "source": [
    "### Account table"
   ]
  },
  {
   "cell_type": "code",
   "execution_count": 4,
   "metadata": {
    "collapsed": false
   },
   "outputs": [
    {
     "name": "stdout",
     "output_type": "stream",
     "text": [
      "2185\n"
     ]
    },
    {
     "data": {
      "text/html": [
       "<div>\n",
       "<table border=\"1\" class=\"dataframe\">\n",
       "  <thead>\n",
       "    <tr style=\"text-align: right;\">\n",
       "      <th></th>\n",
       "      <th>id</th>\n",
       "      <th>account_uuid</th>\n",
       "      <th>meter_uuid</th>\n",
       "      <th>zip5</th>\n",
       "      <th>customer_account</th>\n",
       "      <th>customer_city</th>\n",
       "      <th>customer_name</th>\n",
       "      <th>customer_zip</th>\n",
       "      <th>lea_customer</th>\n",
       "      <th>rate_schedule_id</th>\n",
       "      <th>school_city</th>\n",
       "      <th>school_site_name</th>\n",
       "      <th>school_site_zip</th>\n",
       "      <th>utility_name</th>\n",
       "    </tr>\n",
       "  </thead>\n",
       "  <tbody>\n",
       "    <tr>\n",
       "      <th>0</th>\n",
       "      <td>1</td>\n",
       "      <td>1100176106751</td>\n",
       "      <td>8496493494</td>\n",
       "      <td>94544</td>\n",
       "      <td>None</td>\n",
       "      <td>HAYWARD</td>\n",
       "      <td>ALAMEDA COUNTY OFFICE OF EDUCATION</td>\n",
       "      <td>94544-1136</td>\n",
       "      <td>None</td>\n",
       "      <td>E19S</td>\n",
       "      <td>Hayward</td>\n",
       "      <td>Alameda County Special Education</td>\n",
       "      <td>94544-1136</td>\n",
       "      <td>PacificGasElectric</td>\n",
       "    </tr>\n",
       "    <tr>\n",
       "      <th>1</th>\n",
       "      <td>2</td>\n",
       "      <td>1612340000000</td>\n",
       "      <td>5637199749</td>\n",
       "      <td>94560</td>\n",
       "      <td>None</td>\n",
       "      <td>NEWARK</td>\n",
       "      <td>NEWARK UNIFIED SCHOOL DISTRICT</td>\n",
       "      <td>94560-2554</td>\n",
       "      <td>None</td>\n",
       "      <td>HA10S</td>\n",
       "      <td>Newark</td>\n",
       "      <td>LEA</td>\n",
       "      <td>94560-0385</td>\n",
       "      <td>PacificGasElectric</td>\n",
       "    </tr>\n",
       "    <tr>\n",
       "      <th>2</th>\n",
       "      <td>3</td>\n",
       "      <td>1612340130054</td>\n",
       "      <td>5637199200</td>\n",
       "      <td>94560</td>\n",
       "      <td>None</td>\n",
       "      <td>NEWARK</td>\n",
       "      <td>NEWARK UNIFIED SCHOOL DISTRICT</td>\n",
       "      <td>94560-2554</td>\n",
       "      <td>None</td>\n",
       "      <td>A10S</td>\n",
       "      <td>Newark</td>\n",
       "      <td>Newark Memorial High</td>\n",
       "      <td>94560-5007</td>\n",
       "      <td>PacificGasElectric</td>\n",
       "    </tr>\n",
       "  </tbody>\n",
       "</table>\n",
       "</div>"
      ],
      "text/plain": [
       "   id   account_uuid  meter_uuid   zip5 customer_account customer_city  \\\n",
       "0   1  1100176106751  8496493494  94544             None       HAYWARD   \n",
       "1   2  1612340000000  5637199749  94560             None        NEWARK   \n",
       "2   3  1612340130054  5637199200  94560             None        NEWARK   \n",
       "\n",
       "                        customer_name customer_zip lea_customer  \\\n",
       "0  ALAMEDA COUNTY OFFICE OF EDUCATION   94544-1136         None   \n",
       "1      NEWARK UNIFIED SCHOOL DISTRICT   94560-2554         None   \n",
       "2      NEWARK UNIFIED SCHOOL DISTRICT   94560-2554         None   \n",
       "\n",
       "  rate_schedule_id school_city                  school_site_name  \\\n",
       "0             E19S     Hayward  Alameda County Special Education   \n",
       "1            HA10S      Newark                               LEA   \n",
       "2             A10S      Newark              Newark Memorial High   \n",
       "\n",
       "  school_site_zip        utility_name  \n",
       "0      94544-1136  PacificGasElectric  \n",
       "1      94560-0385  PacificGasElectric  \n",
       "2      94560-5007  PacificGasElectric  "
      ]
     },
     "execution_count": 4,
     "metadata": {},
     "output_type": "execute_result"
    }
   ],
   "source": [
    "account_df = pd.read_sql('SELECT * FROM account;', con=engine)\n",
    "print len(account_df)\n",
    "account_df.head(3)"
   ]
  },
  {
   "cell_type": "markdown",
   "metadata": {},
   "source": [
    "### General lay of the land"
   ]
  },
  {
   "cell_type": "code",
   "execution_count": 5,
   "metadata": {
    "collapsed": false
   },
   "outputs": [
    {
     "data": {
      "text/html": [
       "<div>\n",
       "<table border=\"1\" class=\"dataframe\">\n",
       "  <thead>\n",
       "    <tr style=\"text-align: right;\">\n",
       "      <th></th>\n",
       "      <th>id</th>\n",
       "      <th>account_uuid</th>\n",
       "      <th>meter_uuid</th>\n",
       "      <th>zip5</th>\n",
       "      <th>customer_account</th>\n",
       "      <th>customer_city</th>\n",
       "      <th>customer_name</th>\n",
       "      <th>customer_zip</th>\n",
       "      <th>lea_customer</th>\n",
       "      <th>rate_schedule_id</th>\n",
       "      <th>school_city</th>\n",
       "      <th>school_site_name</th>\n",
       "      <th>school_site_zip</th>\n",
       "      <th>utility_name</th>\n",
       "    </tr>\n",
       "  </thead>\n",
       "  <tbody>\n",
       "    <tr>\n",
       "      <th>0</th>\n",
       "      <td>2185</td>\n",
       "      <td>1078</td>\n",
       "      <td>2185</td>\n",
       "      <td>302</td>\n",
       "      <td>0</td>\n",
       "      <td>149</td>\n",
       "      <td>192</td>\n",
       "      <td>188</td>\n",
       "      <td>0</td>\n",
       "      <td>26</td>\n",
       "      <td>203</td>\n",
       "      <td>960</td>\n",
       "      <td>1018</td>\n",
       "      <td>1</td>\n",
       "    </tr>\n",
       "  </tbody>\n",
       "</table>\n",
       "</div>"
      ],
      "text/plain": [
       "     id  account_uuid  meter_uuid  zip5  customer_account  customer_city  \\\n",
       "0  2185          1078        2185   302                 0            149   \n",
       "\n",
       "   customer_name  customer_zip  lea_customer  rate_schedule_id  school_city  \\\n",
       "0            192           188             0                26          203   \n",
       "\n",
       "   school_site_name  school_site_zip  utility_name  \n",
       "0               960             1018             1  "
      ]
     },
     "execution_count": 5,
     "metadata": {},
     "output_type": "execute_result"
    }
   ],
   "source": [
    "df = pd.read_sql('SELECT * FROM account LIMIT 1;', con=engine)\n",
    "for c in df.columns:\n",
    "    df[c] = pd.read_sql('SELECT COUNT(DISTINCT(' + c + ')) FROM account;', con=engine)\n",
    "df"
   ]
  },
  {
   "cell_type": "code",
   "execution_count": 6,
   "metadata": {
    "collapsed": false
   },
   "outputs": [
    {
     "data": {
      "text/html": [
       "<div>\n",
       "<table border=\"1\" class=\"dataframe\">\n",
       "  <thead>\n",
       "    <tr style=\"text-align: right;\">\n",
       "      <th></th>\n",
       "      <th>COUNT(count)</th>\n",
       "    </tr>\n",
       "  </thead>\n",
       "  <tbody>\n",
       "    <tr>\n",
       "      <th>0</th>\n",
       "      <td>1068</td>\n",
       "    </tr>\n",
       "  </tbody>\n",
       "</table>\n",
       "</div>"
      ],
      "text/plain": [
       "   COUNT(count)\n",
       "0          1068"
      ]
     },
     "execution_count": 6,
     "metadata": {},
     "output_type": "execute_result"
    }
   ],
   "source": [
    "query = '''\n",
    "SELECT COUNT(count) \n",
    "FROM (\n",
    "  SELECT COUNT(*) AS count\n",
    "  FROM account\n",
    "  GROUP BY school_city, school_site_name\n",
    ") AS t1;\n",
    "'''\n",
    "pd.read_sql(query, con=engine)"
   ]
  },
  {
   "cell_type": "markdown",
   "metadata": {},
   "source": [
    "Based on the above, we summarize:\n",
    "\n",
    "* there are 2185 rows in the accounts table\n",
    "* there are 2185 distinct meter_uuid values\n",
    "* there are 1078 distinct account_uuid values\n",
    "* there are 1068 distinct school_city + school_site_name pairs\n",
    "* there are 1018 distinct school_site_zips (9-digit zips)\n",
    "* there are 192 distinct customer_names\n"
   ]
  },
  {
   "cell_type": "markdown",
   "metadata": {},
   "source": [
    "### How does account_uuid relate to distinct school_city + school_name pairs?"
   ]
  },
  {
   "cell_type": "code",
   "execution_count": 7,
   "metadata": {
    "collapsed": true
   },
   "outputs": [],
   "source": [
    "account_df['site_pair'] = account_df['school_city'] + \"_\" + account_df['school_site_name']"
   ]
  },
  {
   "cell_type": "code",
   "execution_count": 8,
   "metadata": {
    "collapsed": false
   },
   "outputs": [
    {
     "name": "stdout",
     "output_type": "stream",
     "text": [
      "2185\n",
      "1083\n"
     ]
    },
    {
     "data": {
      "text/html": [
       "<div>\n",
       "<table border=\"1\" class=\"dataframe\">\n",
       "  <thead>\n",
       "    <tr style=\"text-align: right;\">\n",
       "      <th></th>\n",
       "      <th>site_pair</th>\n",
       "      <th>account_uuid</th>\n",
       "    </tr>\n",
       "  </thead>\n",
       "  <tbody>\n",
       "    <tr>\n",
       "      <th>0</th>\n",
       "      <td>Hayward_Alameda County Special Education</td>\n",
       "      <td>1100176106751</td>\n",
       "    </tr>\n",
       "    <tr>\n",
       "      <th>1</th>\n",
       "      <td>Newark_LEA</td>\n",
       "      <td>1612340000000</td>\n",
       "    </tr>\n",
       "    <tr>\n",
       "      <th>2</th>\n",
       "      <td>Newark_Newark Memorial High</td>\n",
       "      <td>1612340130054</td>\n",
       "    </tr>\n",
       "  </tbody>\n",
       "</table>\n",
       "</div>"
      ],
      "text/plain": [
       "                                  site_pair   account_uuid\n",
       "0  Hayward_Alameda County Special Education  1100176106751\n",
       "1                                Newark_LEA  1612340000000\n",
       "2               Newark_Newark Memorial High  1612340130054"
      ]
     },
     "execution_count": 8,
     "metadata": {},
     "output_type": "execute_result"
    }
   ],
   "source": [
    "comp = account_df[['site_pair','account_uuid']]\n",
    "print len(comp)\n",
    "comp = comp.drop_duplicates()\n",
    "print len(comp)\n",
    "comp.head(3)"
   ]
  },
  {
   "cell_type": "markdown",
   "metadata": {},
   "source": [
    "Note that 1083 is greater than 1078, which is the number of distinct account_uuids: there are thus some account_uuids with multiple site_pair associations. As shown below, these cases look to be caused by discrepencies in site naming texts."
   ]
  },
  {
   "cell_type": "code",
   "execution_count": 9,
   "metadata": {
    "collapsed": false
   },
   "outputs": [
    {
     "data": {
      "text/html": [
       "<div>\n",
       "<table border=\"1\" class=\"dataframe\">\n",
       "  <thead>\n",
       "    <tr style=\"text-align: right;\">\n",
       "      <th></th>\n",
       "      <th>site_pair</th>\n",
       "      <th>account_uuid</th>\n",
       "    </tr>\n",
       "  </thead>\n",
       "  <tbody>\n",
       "    <tr>\n",
       "      <th>684</th>\n",
       "      <td>FRESNO_Sequoia Middle</td>\n",
       "      <td>10621666057335</td>\n",
       "    </tr>\n",
       "    <tr>\n",
       "      <th>1816</th>\n",
       "      <td>Fresno_Sequoia Middle</td>\n",
       "      <td>10621666057335</td>\n",
       "    </tr>\n",
       "    <tr>\n",
       "      <th>849</th>\n",
       "      <td>Bakersfield_North High School</td>\n",
       "      <td>15635291534775</td>\n",
       "    </tr>\n",
       "    <tr>\n",
       "      <th>1858</th>\n",
       "      <td>Bakersfield_North High</td>\n",
       "      <td>15635291534775</td>\n",
       "    </tr>\n",
       "    <tr>\n",
       "      <th>1241</th>\n",
       "      <td>Arroyo Grande_Arroyo Grande High</td>\n",
       "      <td>40687594030557</td>\n",
       "    </tr>\n",
       "    <tr>\n",
       "      <th>1969</th>\n",
       "      <td>ARROYO GRANDE_ARROYO GRANDE HIGH</td>\n",
       "      <td>40687594030557</td>\n",
       "    </tr>\n",
       "    <tr>\n",
       "      <th>1312</th>\n",
       "      <td>REDWOOD CITY_LEA</td>\n",
       "      <td>41690620000000</td>\n",
       "    </tr>\n",
       "    <tr>\n",
       "      <th>2039</th>\n",
       "      <td>SAN CARLOS_LEA</td>\n",
       "      <td>41690620000000</td>\n",
       "    </tr>\n",
       "    <tr>\n",
       "      <th>1349</th>\n",
       "      <td>SUNNYVALE_CUPERTINO MIDDLE</td>\n",
       "      <td>43694196046767</td>\n",
       "    </tr>\n",
       "    <tr>\n",
       "      <th>2048</th>\n",
       "      <td>Sunnyvale_Cupertino Middle</td>\n",
       "      <td>43694196046767</td>\n",
       "    </tr>\n",
       "  </tbody>\n",
       "</table>\n",
       "</div>"
      ],
      "text/plain": [
       "                             site_pair    account_uuid\n",
       "684              FRESNO_Sequoia Middle  10621666057335\n",
       "1816             Fresno_Sequoia Middle  10621666057335\n",
       "849      Bakersfield_North High School  15635291534775\n",
       "1858            Bakersfield_North High  15635291534775\n",
       "1241  Arroyo Grande_Arroyo Grande High  40687594030557\n",
       "1969  ARROYO GRANDE_ARROYO GRANDE HIGH  40687594030557\n",
       "1312                  REDWOOD CITY_LEA  41690620000000\n",
       "2039                    SAN CARLOS_LEA  41690620000000\n",
       "1349        SUNNYVALE_CUPERTINO MIDDLE  43694196046767\n",
       "2048        Sunnyvale_Cupertino Middle  43694196046767"
      ]
     },
     "execution_count": 9,
     "metadata": {},
     "output_type": "execute_result"
    }
   ],
   "source": [
    "account_uuid_doubles = comp[comp.duplicated(subset='account_uuid', keep=False)].sort_values(by='account_uuid')\n",
    "account_uuid_doubles"
   ]
  },
  {
   "cell_type": "markdown",
   "metadata": {},
   "source": [
    "There are more cases of duplicated site_pair values. These look to be caused by either typos in the account_uuid values, or by the use of \"LEA\" in the site_name category."
   ]
  },
  {
   "cell_type": "code",
   "execution_count": 10,
   "metadata": {
    "collapsed": false
   },
   "outputs": [
    {
     "data": {
      "text/html": [
       "<div>\n",
       "<table border=\"1\" class=\"dataframe\">\n",
       "  <thead>\n",
       "    <tr style=\"text-align: right;\">\n",
       "      <th></th>\n",
       "      <th>site_pair</th>\n",
       "      <th>account_uuid</th>\n",
       "    </tr>\n",
       "  </thead>\n",
       "  <tbody>\n",
       "    <tr>\n",
       "      <th>839</th>\n",
       "      <td>Bakersfield_Bakersfield Adult School</td>\n",
       "      <td>15635291530708</td>\n",
       "    </tr>\n",
       "    <tr>\n",
       "      <th>1853</th>\n",
       "      <td>Bakersfield_Bakersfield Adult School</td>\n",
       "      <td>15635291530609</td>\n",
       "    </tr>\n",
       "    <tr>\n",
       "      <th>950</th>\n",
       "      <td>PETALUMA_LEA</td>\n",
       "      <td>21653420000000</td>\n",
       "    </tr>\n",
       "    <tr>\n",
       "      <th>1876</th>\n",
       "      <td>PETALUMA_LEA</td>\n",
       "      <td>21653750000000</td>\n",
       "    </tr>\n",
       "    <tr>\n",
       "      <th>1125</th>\n",
       "      <td>Quincy_LEA</td>\n",
       "      <td>32669690000000</td>\n",
       "    </tr>\n",
       "    <tr>\n",
       "      <th>1913</th>\n",
       "      <td>Quincy_LEA</td>\n",
       "      <td>32103220000000</td>\n",
       "    </tr>\n",
       "    <tr>\n",
       "      <th>1615</th>\n",
       "      <td>Red Bluff_LEA</td>\n",
       "      <td>52716390000000</td>\n",
       "    </tr>\n",
       "    <tr>\n",
       "      <th>2160</th>\n",
       "      <td>Red Bluff_LEA</td>\n",
       "      <td>52716210000000</td>\n",
       "    </tr>\n",
       "    <tr>\n",
       "      <th>1032</th>\n",
       "      <td>SALINAS_LEA</td>\n",
       "      <td>27661420000000</td>\n",
       "    </tr>\n",
       "    <tr>\n",
       "      <th>1078</th>\n",
       "      <td>SALINAS_LEA</td>\n",
       "      <td>27738250000000</td>\n",
       "    </tr>\n",
       "    <tr>\n",
       "      <th>1373</th>\n",
       "      <td>San Jose_LEA</td>\n",
       "      <td>43694270000000</td>\n",
       "    </tr>\n",
       "    <tr>\n",
       "      <th>2064</th>\n",
       "      <td>San Jose_LEA</td>\n",
       "      <td>43694350000000</td>\n",
       "    </tr>\n",
       "    <tr>\n",
       "      <th>1592</th>\n",
       "      <td>VACAVILLE_CAMBRIDGE</td>\n",
       "      <td>48705656103154</td>\n",
       "    </tr>\n",
       "    <tr>\n",
       "      <th>1593</th>\n",
       "      <td>VACAVILLE_CAMBRIDGE</td>\n",
       "      <td>48705856103154</td>\n",
       "    </tr>\n",
       "  </tbody>\n",
       "</table>\n",
       "</div>"
      ],
      "text/plain": [
       "                                 site_pair    account_uuid\n",
       "839   Bakersfield_Bakersfield Adult School  15635291530708\n",
       "1853  Bakersfield_Bakersfield Adult School  15635291530609\n",
       "950                           PETALUMA_LEA  21653420000000\n",
       "1876                          PETALUMA_LEA  21653750000000\n",
       "1125                            Quincy_LEA  32669690000000\n",
       "1913                            Quincy_LEA  32103220000000\n",
       "1615                         Red Bluff_LEA  52716390000000\n",
       "2160                         Red Bluff_LEA  52716210000000\n",
       "1032                           SALINAS_LEA  27661420000000\n",
       "1078                           SALINAS_LEA  27738250000000\n",
       "1373                          San Jose_LEA  43694270000000\n",
       "2064                          San Jose_LEA  43694350000000\n",
       "1592                   VACAVILLE_CAMBRIDGE  48705656103154\n",
       "1593                   VACAVILLE_CAMBRIDGE  48705856103154"
      ]
     },
     "execution_count": 10,
     "metadata": {},
     "output_type": "execute_result"
    }
   ],
   "source": [
    "site_pair_doubles = comp[comp.duplicated(subset='site_pair', keep=False)].sort_values(by='site_pair')\n",
    "site_pair_doubles"
   ]
  },
  {
   "cell_type": "markdown",
   "metadata": {},
   "source": [
    "### Hierarchical tree relationship"
   ]
  },
  {
   "cell_type": "markdown",
   "metadata": {},
   "source": [
    "Testing this hypothesis:\n",
    "\n",
    "* The following three fields display a hierarchical tree relationship: customer_name > account_uuid > meter_uuid\n",
    "\n",
    "Note that this would mean that (a) each distinct meter_uuid must be associated with just one account_uuid and that (b) each distinct account_uuid must be associated with just one customer_name.\n",
    "\n",
    "Also note that (a) is true since there is only one instance of each meter_uuid in the table, so we just need to test (b)."
   ]
  },
  {
   "cell_type": "code",
   "execution_count": 11,
   "metadata": {
    "collapsed": false
   },
   "outputs": [
    {
     "name": "stdout",
     "output_type": "stream",
     "text": [
      "1078\n"
     ]
    },
    {
     "data": {
      "text/html": [
       "<div>\n",
       "<table border=\"1\" class=\"dataframe\">\n",
       "  <thead>\n",
       "    <tr style=\"text-align: right;\">\n",
       "      <th></th>\n",
       "      <th>customer_name</th>\n",
       "      <th>account_uuid</th>\n",
       "    </tr>\n",
       "  </thead>\n",
       "  <tbody>\n",
       "    <tr>\n",
       "      <th>0</th>\n",
       "      <td>ALAMEDA COUNTY OFFICE OF EDUCATION</td>\n",
       "      <td>1100176106751</td>\n",
       "    </tr>\n",
       "    <tr>\n",
       "      <th>1</th>\n",
       "      <td>NEWARK UNIFIED SCHOOL DISTRICT</td>\n",
       "      <td>1612340000000</td>\n",
       "    </tr>\n",
       "    <tr>\n",
       "      <th>2</th>\n",
       "      <td>NEWARK UNIFIED SCHOOL DISTRICT</td>\n",
       "      <td>1612340130054</td>\n",
       "    </tr>\n",
       "  </tbody>\n",
       "</table>\n",
       "</div>"
      ],
      "text/plain": [
       "                        customer_name   account_uuid\n",
       "0  ALAMEDA COUNTY OFFICE OF EDUCATION  1100176106751\n",
       "1      NEWARK UNIFIED SCHOOL DISTRICT  1612340000000\n",
       "2      NEWARK UNIFIED SCHOOL DISTRICT  1612340130054"
      ]
     },
     "execution_count": 11,
     "metadata": {},
     "output_type": "execute_result"
    }
   ],
   "source": [
    "customer_name_account_df = account_df[['customer_name','account_uuid']]\n",
    "customer_name_account_df = customer_name_account_df.drop_duplicates()\n",
    "print len(customer_name_account_df)\n",
    "customer_name_account_df.head(3)"
   ]
  },
  {
   "cell_type": "markdown",
   "metadata": {},
   "source": [
    "Note from the 'lay of the land' section above that there are 1078 distinct account_uuids in the table, so they are all unique and thus must each be associated with just one customer_name.\n",
    "\n",
    "So the hierarchical relationship holds.\n",
    "\n",
    "There are various ways of visualizing the overall mapping - e.g. as a tree or [sunburst](https://bl.ocks.org/mbostock/4348373), below we just consider the distributions of accounts per customer and meters per account."
   ]
  },
  {
   "cell_type": "code",
   "execution_count": 12,
   "metadata": {
    "collapsed": false
   },
   "outputs": [
    {
     "data": {
      "text/html": [
       "<div>\n",
       "<table border=\"1\" class=\"dataframe\">\n",
       "  <thead>\n",
       "    <tr style=\"text-align: right;\">\n",
       "      <th></th>\n",
       "      <th>account_uuid</th>\n",
       "    </tr>\n",
       "    <tr>\n",
       "      <th>customer_name</th>\n",
       "      <th></th>\n",
       "    </tr>\n",
       "  </thead>\n",
       "  <tbody>\n",
       "    <tr>\n",
       "      <th>ACALANES UNION HIGH SCHOOL DISTRICT</th>\n",
       "      <td>5</td>\n",
       "    </tr>\n",
       "    <tr>\n",
       "      <th>ALAMEDA COUNTY OFFICE OF EDUCATION</th>\n",
       "      <td>1</td>\n",
       "    </tr>\n",
       "    <tr>\n",
       "      <th>ALLENSWORTH ELEMENTARY SCHOOL</th>\n",
       "      <td>1</td>\n",
       "    </tr>\n",
       "    <tr>\n",
       "      <th>ALTERNATIVES IN ACTION</th>\n",
       "      <td>1</td>\n",
       "    </tr>\n",
       "    <tr>\n",
       "      <th>ALVINA SCHOOL</th>\n",
       "      <td>1</td>\n",
       "    </tr>\n",
       "  </tbody>\n",
       "</table>\n",
       "</div>"
      ],
      "text/plain": [
       "                                     account_uuid\n",
       "customer_name                                    \n",
       "ACALANES UNION HIGH SCHOOL DISTRICT             5\n",
       "ALAMEDA COUNTY OFFICE OF EDUCATION              1\n",
       "ALLENSWORTH ELEMENTARY SCHOOL                   1\n",
       "ALTERNATIVES IN ACTION                          1\n",
       "ALVINA SCHOOL                                   1"
      ]
     },
     "execution_count": 12,
     "metadata": {},
     "output_type": "execute_result"
    }
   ],
   "source": [
    "customer_name_groups = customer_name_account_df.groupby('customer_name').count()\n",
    "customer_name_groups.head()"
   ]
  },
  {
   "cell_type": "code",
   "execution_count": 13,
   "metadata": {
    "collapsed": false
   },
   "outputs": [
    {
     "data": {
      "text/plain": [
       "array([[<matplotlib.axes._subplots.AxesSubplot object at 0x107e84710>]], dtype=object)"
      ]
     },
     "execution_count": 13,
     "metadata": {},
     "output_type": "execute_result"
    },
    {
     "data": {
      "image/png": "[encoded data removed]",
      "text/plain": [
       "<matplotlib.figure.Figure at 0x107c62410>"
      ]
     },
     "metadata": {},
     "output_type": "display_data"
    }
   ],
   "source": [
    "customer_name_groups.hist(bins=50)"
   ]
  },
  {
   "cell_type": "code",
   "execution_count": 14,
   "metadata": {
    "collapsed": false
   },
   "outputs": [
    {
     "data": {
      "text/html": [
       "<div>\n",
       "<table border=\"1\" class=\"dataframe\">\n",
       "  <thead>\n",
       "    <tr style=\"text-align: right;\">\n",
       "      <th></th>\n",
       "      <th>meter_uuid</th>\n",
       "    </tr>\n",
       "    <tr>\n",
       "      <th>account_uuid</th>\n",
       "      <th></th>\n",
       "    </tr>\n",
       "  </thead>\n",
       "  <tbody>\n",
       "    <tr>\n",
       "      <th>10619946005730</th>\n",
       "      <td>2</td>\n",
       "    </tr>\n",
       "    <tr>\n",
       "      <th>10621170000000</th>\n",
       "      <td>3</td>\n",
       "    </tr>\n",
       "    <tr>\n",
       "      <th>10621170106419</th>\n",
       "      <td>1</td>\n",
       "    </tr>\n",
       "    <tr>\n",
       "      <th>10621170108142</th>\n",
       "      <td>1</td>\n",
       "    </tr>\n",
       "    <tr>\n",
       "      <th>10621170111153</th>\n",
       "      <td>3</td>\n",
       "    </tr>\n",
       "  </tbody>\n",
       "</table>\n",
       "</div>"
      ],
      "text/plain": [
       "                meter_uuid\n",
       "account_uuid              \n",
       "10619946005730           2\n",
       "10621170000000           3\n",
       "10621170106419           1\n",
       "10621170108142           1\n",
       "10621170111153           3"
      ]
     },
     "execution_count": 14,
     "metadata": {},
     "output_type": "execute_result"
    }
   ],
   "source": [
    "account_groups = account_df[['account_uuid','meter_uuid']].groupby('account_uuid').count()\n",
    "account_groups.head()"
   ]
  },
  {
   "cell_type": "code",
   "execution_count": 15,
   "metadata": {
    "collapsed": false
   },
   "outputs": [
    {
     "data": {
      "text/plain": [
       "array([[<matplotlib.axes._subplots.AxesSubplot object at 0x107fccf50>]], dtype=object)"
      ]
     },
     "execution_count": 15,
     "metadata": {},
     "output_type": "execute_result"
    },
    {
     "data": {
      "image/png": "[encoded data removed]",
      "text/plain": [
       "<matplotlib.figure.Figure at 0x107f1a390>"
      ]
     },
     "metadata": {},
     "output_type": "display_data"
    }
   ],
   "source": [
    "account_groups.hist(bins=16)"
   ]
  }
 ],
 "metadata": {
  "kernelspec": {
   "display_name": "Python 2",
   "language": "python",
   "name": "python2"
  },
  "language_info": {
   "codemirror_mode": {
    "name": "ipython",
    "version": 2
   },
   "file_extension": ".py",
   "mimetype": "text/x-python",
   "name": "python",
   "nbconvert_exporter": "python",
   "pygments_lexer": "ipython2",
   "version": "2.7.10"
  }
 },
 "nbformat": 4,
 "nbformat_minor": 1
}
