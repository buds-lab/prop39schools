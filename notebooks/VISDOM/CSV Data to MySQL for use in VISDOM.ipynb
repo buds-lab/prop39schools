{
 "cells": [
  {
   "cell_type": "markdown",
   "metadata": {},
   "source": [
    "## CSV Data to MySQL for use in VISDOM"
   ]
  },
  {
   "cell_type": "markdown",
   "metadata": {},
   "source": [
    "This notebook can be used to construct an 'account' table and a 'meter_data' table in mysql, based on the csv files with data extracted from the prop39schools xml files, and an 'intervention' table based on the PEPS_Data.xlsx file available on the [prop39 data site](http://www.energy.ca.gov/efficiency/proposition39/data/).\n",
    "\n",
    "The processed csv files can be downloaded as a zip file from [here](https://s3.amazonaws.com/BrianCoffey/PGE_csv_2.zip). They should be unzipped locally before running this script. Note that you may also need to `pip install xlrd` to be able to run pandas.read_excel for the intervention table data.\n",
    "\n",
    "You must first create a database in mysql with your desired name (e.g. visdom_data_PGE), and create a data_db.cfg file to point to it, as described in the next section below.\n",
    "\n",
    "The script will likely take about 40 minutes to complete on most modern laptops.\n",
    "\n",
    "For your database to be ready for use in VISDOM, you will also need to load a local_weather table into your database. To do so you can follow the instructions in the [local-weather repo](https://github.com/sborgeson/local-weather) and use the prop39_config.csv file found [here](https://s3.amazonaws.com/BrianCoffey/prop39_weather_config.csv), which was prepared using the accompanying notebook. Or, if you want to get to the end point faster, you can download [this csv file](https://s3.amazonaws.com/BrianCoffey/prop39_weather_dump.csv), which was constructed using that repo, and then simply modify [this sql query](https://github.com/sborgeson/local-weather/blob/master/import_weather_data_mysql.sql) to point to that csv file and run it. Running the sql script will take about 20 minutes.\n",
    "\n",
    "Once the database is set up, you can set it up as a DATA_SOURCE in VISDOM with the accompanying prop39_visdom_data_source.R file and test it via the sanitycheck function as follows:\n",
    "\n",
    "```\n",
    "source(\"prop39_visdom_data_source.R\")\n",
    "DATA_SOURCE = MyDataSource()\n",
    "sanityCheckDataSource(DATA_SOURCE)\n",
    "```\n",
    "\n",
    "As described in more detail in the ID_mapping notebook in the same folder as this notebook, an account_uuid generally corresponds with an individual school and may have one or multiple meters associated with it, and may also have multiple interventions (or no interventions) associated with it."
   ]
  },
  {
   "cell_type": "markdown",
   "metadata": {},
   "source": [
    "### File locations, database config"
   ]
  },
  {
   "cell_type": "markdown",
   "metadata": {},
   "source": [
    "Point this to the directory with the meter data csv files:"
   ]
  },
  {
   "cell_type": "code",
   "execution_count": 1,
   "metadata": {
    "collapsed": true
   },
   "outputs": [],
   "source": [
    "csv_dir = \"PGE_csv\""
   ]
  },
  {
   "cell_type": "markdown",
   "metadata": {},
   "source": [
    "Read your database connection details from a data_db.cfg file with the following format:\n",
    "\n",
    "```\n",
    "dbType=MySQL\n",
    "user=[database user]\n",
    "pass=[password (if applicable)]\n",
    "db=[name of database]\n",
    "```"
   ]
  },
  {
   "cell_type": "code",
   "execution_count": 2,
   "metadata": {
    "collapsed": true
   },
   "outputs": [],
   "source": [
    "db_pass = \"\"\n",
    "with open('data_db.cfg','r') as f:\n",
    "    for line in f:\n",
    "        s = line.split(\"=\")\n",
    "        if s[0].strip() == \"user\":\n",
    "            db_user = s[1].strip()\n",
    "        if s[0].strip() == \"pass\":\n",
    "            db_pass = \":\" + s[1].strip()\n",
    "        if s[0].strip() == \"db\":\n",
    "            db_db = s[1].strip()"
   ]
  },
  {
   "cell_type": "markdown",
   "metadata": {},
   "source": [
    "### Notebook config"
   ]
  },
  {
   "cell_type": "code",
   "execution_count": 3,
   "metadata": {
    "collapsed": true
   },
   "outputs": [],
   "source": [
    "import pandas as pd\n",
    "import numpy as np\n",
    "import mysql.connector, os, datetime\n",
    "from sqlalchemy import create_engine"
   ]
  },
  {
   "cell_type": "code",
   "execution_count": 4,
   "metadata": {
    "collapsed": true
   },
   "outputs": [],
   "source": [
    "engine = create_engine('mysql+mysqlconnector://' + db_user + db_pass + '@localhost/' + db_db, echo=False)\n",
    "conn = engine.connect()"
   ]
  },
  {
   "cell_type": "markdown",
   "metadata": {},
   "source": [
    "### Reading the account table data from the _BILL.csv files"
   ]
  },
  {
   "cell_type": "code",
   "execution_count": 5,
   "metadata": {
    "collapsed": true
   },
   "outputs": [],
   "source": [
    "usecols = [\n",
    "    'utility',\n",
    "    'customer_name',\n",
    "    'customer_city',\n",
    "    'customer_zip',\n",
    "    'customer_account',\n",
    "    'lea_customer',\n",
    "    'cds_code',\n",
    "    'school_site_name',\n",
    "    'school_city',\n",
    "    'school_site_zip',\n",
    "    'agreement',\n",
    "    'rate_schedule_id'    \n",
    "]"
   ]
  },
  {
   "cell_type": "code",
   "execution_count": 6,
   "metadata": {
    "collapsed": false
   },
   "outputs": [
    {
     "name": "stdout",
     "output_type": "stream",
     "text": [
      "4872\n"
     ]
    },
    {
     "data": {
      "text/html": [
       "<div>\n",
       "<table border=\"1\" class=\"dataframe\">\n",
       "  <thead>\n",
       "    <tr style=\"text-align: right;\">\n",
       "      <th></th>\n",
       "      <th>agreement</th>\n",
       "      <th>cds_code</th>\n",
       "      <th>customer_account</th>\n",
       "      <th>customer_city</th>\n",
       "      <th>customer_name</th>\n",
       "      <th>customer_zip</th>\n",
       "      <th>lea_customer</th>\n",
       "      <th>rate_schedule_id</th>\n",
       "      <th>school_city</th>\n",
       "      <th>school_site_name</th>\n",
       "      <th>school_site_zip</th>\n",
       "      <th>utility</th>\n",
       "    </tr>\n",
       "  </thead>\n",
       "  <tbody>\n",
       "    <tr>\n",
       "      <th>0</th>\n",
       "      <td>8496493494</td>\n",
       "      <td>1100170130419</td>\n",
       "      <td>NaN</td>\n",
       "      <td>HAYWARD</td>\n",
       "      <td>ALAMEDA COUNTY OFFICE OF EDUCATION</td>\n",
       "      <td>94544-1136</td>\n",
       "      <td>NaN</td>\n",
       "      <td>E19S</td>\n",
       "      <td>Hayward</td>\n",
       "      <td>Alameda County Community</td>\n",
       "      <td>94544-1136</td>\n",
       "      <td>PacificGasElectric</td>\n",
       "    </tr>\n",
       "    <tr>\n",
       "      <th>1</th>\n",
       "      <td>8496493494</td>\n",
       "      <td>1100176106751</td>\n",
       "      <td>NaN</td>\n",
       "      <td>HAYWARD</td>\n",
       "      <td>ALAMEDA COUNTY OFFICE OF EDUCATION</td>\n",
       "      <td>94544-1136</td>\n",
       "      <td>NaN</td>\n",
       "      <td>E19S</td>\n",
       "      <td>Hayward</td>\n",
       "      <td>Alameda County Special Education</td>\n",
       "      <td>94544-1136</td>\n",
       "      <td>PacificGasElectric</td>\n",
       "    </tr>\n",
       "    <tr>\n",
       "      <th>2</th>\n",
       "      <td>5637199749</td>\n",
       "      <td>1612340000000</td>\n",
       "      <td>NaN</td>\n",
       "      <td>NEWARK</td>\n",
       "      <td>NEWARK UNIFIED SCHOOL DISTRICT</td>\n",
       "      <td>94560-2554</td>\n",
       "      <td>NaN</td>\n",
       "      <td>HA10SX</td>\n",
       "      <td>Newark</td>\n",
       "      <td>LEA</td>\n",
       "      <td>94560-0385</td>\n",
       "      <td>PacificGasElectric</td>\n",
       "    </tr>\n",
       "  </tbody>\n",
       "</table>\n",
       "</div>"
      ],
      "text/plain": [
       "    agreement       cds_code  customer_account customer_city  \\\n",
       "0  8496493494  1100170130419               NaN       HAYWARD   \n",
       "1  8496493494  1100176106751               NaN       HAYWARD   \n",
       "2  5637199749  1612340000000               NaN        NEWARK   \n",
       "\n",
       "                        customer_name customer_zip  lea_customer  \\\n",
       "0  ALAMEDA COUNTY OFFICE OF EDUCATION   94544-1136           NaN   \n",
       "1  ALAMEDA COUNTY OFFICE OF EDUCATION   94544-1136           NaN   \n",
       "2      NEWARK UNIFIED SCHOOL DISTRICT   94560-2554           NaN   \n",
       "\n",
       "  rate_schedule_id school_city                  school_site_name  \\\n",
       "0             E19S     Hayward          Alameda County Community   \n",
       "1             E19S     Hayward  Alameda County Special Education   \n",
       "2           HA10SX      Newark                               LEA   \n",
       "\n",
       "  school_site_zip             utility  \n",
       "0      94544-1136  PacificGasElectric  \n",
       "1      94544-1136  PacificGasElectric  \n",
       "2      94560-0385  PacificGasElectric  "
      ]
     },
     "execution_count": 6,
     "metadata": {},
     "output_type": "execute_result"
    }
   ],
   "source": [
    "accounts_list = []\n",
    "for root, dirs, files in os.walk(csv_dir):\n",
    "    for f in files:\n",
    "        if f.endswith('_BILL.csv'):\n",
    "            df = pd.read_csv(os.path.join(root,f), usecols=usecols)\n",
    "            df = df.drop_duplicates()\n",
    "            accounts_list.extend(df.to_dict(orient='records'))\n",
    "\n",
    "accounts_df = df.from_records(accounts_list)\n",
    "accounts_df = accounts_df.drop_duplicates()\n",
    "print len(accounts_df)\n",
    "accounts_df.head(3)"
   ]
  },
  {
   "cell_type": "code",
   "execution_count": 7,
   "metadata": {
    "collapsed": false
   },
   "outputs": [
    {
     "data": {
      "text/plain": [
       "['agreement',\n",
       " 'cds_code',\n",
       " 'customer_account',\n",
       " 'customer_city',\n",
       " 'customer_name',\n",
       " 'customer_zip',\n",
       " 'lea_customer',\n",
       " 'rate_schedule_id',\n",
       " 'school_city',\n",
       " 'school_site_name',\n",
       " 'school_site_zip',\n",
       " 'utility']"
      ]
     },
     "execution_count": 7,
     "metadata": {},
     "output_type": "execute_result"
    }
   ],
   "source": [
    "accounts_df.columns.tolist()"
   ]
  },
  {
   "cell_type": "code",
   "execution_count": 8,
   "metadata": {
    "collapsed": false
   },
   "outputs": [],
   "source": [
    "accounts_df.columns = [\n",
    " 'meter_uuid',\n",
    " 'account_uuid',\n",
    " 'customer_account',\n",
    " 'customer_city',\n",
    " 'customer_name',\n",
    " 'customer_zip',\n",
    " 'lea_customer',\n",
    " 'rate_schedule_id',\n",
    " 'school_city',\n",
    " 'school_site_name',\n",
    " 'school_site_zip',\n",
    " 'utility_name'\n",
    "]"
   ]
  },
  {
   "cell_type": "code",
   "execution_count": 9,
   "metadata": {
    "collapsed": false
   },
   "outputs": [
    {
     "data": {
      "text/html": [
       "<div>\n",
       "<table border=\"1\" class=\"dataframe\">\n",
       "  <thead>\n",
       "    <tr style=\"text-align: right;\">\n",
       "      <th></th>\n",
       "      <th>meter_uuid</th>\n",
       "      <th>account_uuid</th>\n",
       "      <th>customer_account</th>\n",
       "      <th>customer_city</th>\n",
       "      <th>customer_name</th>\n",
       "      <th>customer_zip</th>\n",
       "      <th>lea_customer</th>\n",
       "      <th>rate_schedule_id</th>\n",
       "      <th>school_city</th>\n",
       "      <th>school_site_name</th>\n",
       "      <th>school_site_zip</th>\n",
       "      <th>utility_name</th>\n",
       "      <th>zip5</th>\n",
       "    </tr>\n",
       "  </thead>\n",
       "  <tbody>\n",
       "    <tr>\n",
       "      <th>0</th>\n",
       "      <td>8496493494</td>\n",
       "      <td>1100170130419</td>\n",
       "      <td>NaN</td>\n",
       "      <td>HAYWARD</td>\n",
       "      <td>ALAMEDA COUNTY OFFICE OF EDUCATION</td>\n",
       "      <td>94544-1136</td>\n",
       "      <td>NaN</td>\n",
       "      <td>E19S</td>\n",
       "      <td>Hayward</td>\n",
       "      <td>Alameda County Community</td>\n",
       "      <td>94544-1136</td>\n",
       "      <td>PacificGasElectric</td>\n",
       "      <td>94544</td>\n",
       "    </tr>\n",
       "    <tr>\n",
       "      <th>1</th>\n",
       "      <td>8496493494</td>\n",
       "      <td>1100176106751</td>\n",
       "      <td>NaN</td>\n",
       "      <td>HAYWARD</td>\n",
       "      <td>ALAMEDA COUNTY OFFICE OF EDUCATION</td>\n",
       "      <td>94544-1136</td>\n",
       "      <td>NaN</td>\n",
       "      <td>E19S</td>\n",
       "      <td>Hayward</td>\n",
       "      <td>Alameda County Special Education</td>\n",
       "      <td>94544-1136</td>\n",
       "      <td>PacificGasElectric</td>\n",
       "      <td>94544</td>\n",
       "    </tr>\n",
       "    <tr>\n",
       "      <th>2</th>\n",
       "      <td>5637199749</td>\n",
       "      <td>1612340000000</td>\n",
       "      <td>NaN</td>\n",
       "      <td>NEWARK</td>\n",
       "      <td>NEWARK UNIFIED SCHOOL DISTRICT</td>\n",
       "      <td>94560-2554</td>\n",
       "      <td>NaN</td>\n",
       "      <td>HA10SX</td>\n",
       "      <td>Newark</td>\n",
       "      <td>LEA</td>\n",
       "      <td>94560-0385</td>\n",
       "      <td>PacificGasElectric</td>\n",
       "      <td>94560</td>\n",
       "    </tr>\n",
       "  </tbody>\n",
       "</table>\n",
       "</div>"
      ],
      "text/plain": [
       "   meter_uuid   account_uuid  customer_account customer_city  \\\n",
       "0  8496493494  1100170130419               NaN       HAYWARD   \n",
       "1  8496493494  1100176106751               NaN       HAYWARD   \n",
       "2  5637199749  1612340000000               NaN        NEWARK   \n",
       "\n",
       "                        customer_name customer_zip  lea_customer  \\\n",
       "0  ALAMEDA COUNTY OFFICE OF EDUCATION   94544-1136           NaN   \n",
       "1  ALAMEDA COUNTY OFFICE OF EDUCATION   94544-1136           NaN   \n",
       "2      NEWARK UNIFIED SCHOOL DISTRICT   94560-2554           NaN   \n",
       "\n",
       "  rate_schedule_id school_city                  school_site_name  \\\n",
       "0             E19S     Hayward          Alameda County Community   \n",
       "1             E19S     Hayward  Alameda County Special Education   \n",
       "2           HA10SX      Newark                               LEA   \n",
       "\n",
       "  school_site_zip        utility_name   zip5  \n",
       "0      94544-1136  PacificGasElectric  94544  \n",
       "1      94544-1136  PacificGasElectric  94544  \n",
       "2      94560-0385  PacificGasElectric  94560  "
      ]
     },
     "execution_count": 9,
     "metadata": {},
     "output_type": "execute_result"
    }
   ],
   "source": [
    "accounts_df['zip5'] = accounts_df['school_site_zip'].str[:5]\n",
    "accounts_df.head(3)"
   ]
  },
  {
   "cell_type": "code",
   "execution_count": 10,
   "metadata": {
    "collapsed": false
   },
   "outputs": [
    {
     "data": {
      "text/plain": [
       "4864"
      ]
     },
     "execution_count": 10,
     "metadata": {},
     "output_type": "execute_result"
    }
   ],
   "source": [
    "reals = accounts_df[['account_uuid']].applymap(np.isreal)\n",
    "accounts_df = accounts_df[reals['account_uuid']]\n",
    "len(accounts_df)"
   ]
  },
  {
   "cell_type": "code",
   "execution_count": 11,
   "metadata": {
    "collapsed": false
   },
   "outputs": [
    {
     "data": {
      "text/plain": [
       "3177"
      ]
     },
     "execution_count": 11,
     "metadata": {},
     "output_type": "execute_result"
    }
   ],
   "source": [
    "accounts_df = accounts_df.drop_duplicates(subset=['meter_uuid'], keep='last')\n",
    "len(accounts_df)"
   ]
  },
  {
   "cell_type": "code",
   "execution_count": 12,
   "metadata": {
    "collapsed": false
   },
   "outputs": [
    {
     "data": {
      "text/plain": [
       "2575"
      ]
     },
     "execution_count": 12,
     "metadata": {},
     "output_type": "execute_result"
    }
   ],
   "source": [
    "accounts_df = accounts_df.dropna(subset=['zip5'])\n",
    "len(accounts_df)"
   ]
  },
  {
   "cell_type": "markdown",
   "metadata": {},
   "source": [
    "### Creating the account table in the desired format and writing to it"
   ]
  },
  {
   "cell_type": "code",
   "execution_count": 13,
   "metadata": {
    "collapsed": false
   },
   "outputs": [
    {
     "data": {
      "text/plain": [
       "<sqlalchemy.engine.result.ResultProxy at 0x10a349550>"
      ]
     },
     "execution_count": 13,
     "metadata": {},
     "output_type": "execute_result"
    }
   ],
   "source": [
    "create_table_sql = '''\n",
    "CREATE TABLE `account` (\n",
    "  `id` int(11) NOT NULL AUTO_INCREMENT,\n",
    "  `account_uuid` varchar(20) DEFAULT NULL,\n",
    "  `meter_uuid` varchar(20) DEFAULT NULL,\n",
    "  `zip5` varchar(5) DEFAULT NULL,\n",
    "  `customer_account` varchar(50) DEFAULT NULL,\n",
    "  `customer_city` varchar(50) DEFAULT NULL,\n",
    "  `customer_name` varchar(50) DEFAULT NULL,\n",
    "  `customer_zip` varchar(10) DEFAULT NULL,\n",
    "  `lea_customer` varchar(50) DEFAULT NULL,\n",
    "  `rate_schedule_id` varchar(50) DEFAULT NULL,\n",
    "  `school_city` varchar(50) DEFAULT NULL,\n",
    "  `school_site_name` varchar(100) DEFAULT NULL,\n",
    "  `school_site_zip` varchar(10) DEFAULT NULL,\n",
    "  `utility_name` varchar(50) DEFAULT NULL,\n",
    "  PRIMARY KEY (`id`),\n",
    "  KEY `zip5_meter_uuid_idx` (`METER_UUID`,`zip5`),\n",
    "  KEY `account_uuid_idx` (`ACCOUNT_UUID`),\n",
    "  KEY `meter_uuid_idx` (`METER_UUID`)\n",
    ")\n",
    "'''\n",
    "\n",
    "conn.execute('DROP TABLE IF EXISTS `account`;')\n",
    "conn.execute(create_table_sql)"
   ]
  },
  {
   "cell_type": "code",
   "execution_count": 14,
   "metadata": {
    "collapsed": false
   },
   "outputs": [],
   "source": [
    "accounts_df.to_sql(name='account', con=engine, if_exists='append', index=False)"
   ]
  },
  {
   "cell_type": "markdown",
   "metadata": {},
   "source": [
    "Quick test to make sure it's working:"
   ]
  },
  {
   "cell_type": "code",
   "execution_count": 15,
   "metadata": {
    "collapsed": false
   },
   "outputs": [
    {
     "data": {
      "text/html": [
       "<div>\n",
       "<table border=\"1\" class=\"dataframe\">\n",
       "  <thead>\n",
       "    <tr style=\"text-align: right;\">\n",
       "      <th></th>\n",
       "      <th>id</th>\n",
       "      <th>account_uuid</th>\n",
       "      <th>meter_uuid</th>\n",
       "      <th>zip5</th>\n",
       "      <th>customer_account</th>\n",
       "      <th>customer_city</th>\n",
       "      <th>customer_name</th>\n",
       "      <th>customer_zip</th>\n",
       "      <th>lea_customer</th>\n",
       "      <th>rate_schedule_id</th>\n",
       "      <th>school_city</th>\n",
       "      <th>school_site_name</th>\n",
       "      <th>school_site_zip</th>\n",
       "      <th>utility_name</th>\n",
       "    </tr>\n",
       "  </thead>\n",
       "  <tbody>\n",
       "    <tr>\n",
       "      <th>0</th>\n",
       "      <td>1</td>\n",
       "      <td>1100176106751</td>\n",
       "      <td>8496493494</td>\n",
       "      <td>94544</td>\n",
       "      <td>None</td>\n",
       "      <td>HAYWARD</td>\n",
       "      <td>ALAMEDA COUNTY OFFICE OF EDUCATION</td>\n",
       "      <td>94544-1136</td>\n",
       "      <td>None</td>\n",
       "      <td>E19S</td>\n",
       "      <td>Hayward</td>\n",
       "      <td>Alameda County Special Education</td>\n",
       "      <td>94544-1136</td>\n",
       "      <td>PacificGasElectric</td>\n",
       "    </tr>\n",
       "    <tr>\n",
       "      <th>1</th>\n",
       "      <td>2</td>\n",
       "      <td>1612340000000</td>\n",
       "      <td>5637199749</td>\n",
       "      <td>94560</td>\n",
       "      <td>None</td>\n",
       "      <td>NEWARK</td>\n",
       "      <td>NEWARK UNIFIED SCHOOL DISTRICT</td>\n",
       "      <td>94560-2554</td>\n",
       "      <td>None</td>\n",
       "      <td>HA10S</td>\n",
       "      <td>Newark</td>\n",
       "      <td>LEA</td>\n",
       "      <td>94560-0385</td>\n",
       "      <td>PacificGasElectric</td>\n",
       "    </tr>\n",
       "    <tr>\n",
       "      <th>2</th>\n",
       "      <td>3</td>\n",
       "      <td>1612340130054</td>\n",
       "      <td>5637199200</td>\n",
       "      <td>94560</td>\n",
       "      <td>None</td>\n",
       "      <td>NEWARK</td>\n",
       "      <td>NEWARK UNIFIED SCHOOL DISTRICT</td>\n",
       "      <td>94560-2554</td>\n",
       "      <td>None</td>\n",
       "      <td>A10S</td>\n",
       "      <td>Newark</td>\n",
       "      <td>Newark Memorial High</td>\n",
       "      <td>94560-5007</td>\n",
       "      <td>PacificGasElectric</td>\n",
       "    </tr>\n",
       "  </tbody>\n",
       "</table>\n",
       "</div>"
      ],
      "text/plain": [
       "   id   account_uuid  meter_uuid   zip5 customer_account customer_city  \\\n",
       "0   1  1100176106751  8496493494  94544             None       HAYWARD   \n",
       "1   2  1612340000000  5637199749  94560             None        NEWARK   \n",
       "2   3  1612340130054  5637199200  94560             None        NEWARK   \n",
       "\n",
       "                        customer_name customer_zip lea_customer  \\\n",
       "0  ALAMEDA COUNTY OFFICE OF EDUCATION   94544-1136         None   \n",
       "1      NEWARK UNIFIED SCHOOL DISTRICT   94560-2554         None   \n",
       "2      NEWARK UNIFIED SCHOOL DISTRICT   94560-2554         None   \n",
       "\n",
       "  rate_schedule_id school_city                  school_site_name  \\\n",
       "0             E19S     Hayward  Alameda County Special Education   \n",
       "1            HA10S      Newark                               LEA   \n",
       "2             A10S      Newark              Newark Memorial High   \n",
       "\n",
       "  school_site_zip        utility_name  \n",
       "0      94544-1136  PacificGasElectric  \n",
       "1      94560-0385  PacificGasElectric  \n",
       "2      94560-5007  PacificGasElectric  "
      ]
     },
     "execution_count": 15,
     "metadata": {},
     "output_type": "execute_result"
    }
   ],
   "source": [
    "pd.read_sql('SELECT * FROM account LIMIT 3;', con=engine)"
   ]
  },
  {
   "cell_type": "code",
   "execution_count": 16,
   "metadata": {
    "collapsed": false
   },
   "outputs": [
    {
     "data": {
      "text/html": [
       "<div>\n",
       "<table border=\"1\" class=\"dataframe\">\n",
       "  <thead>\n",
       "    <tr style=\"text-align: right;\">\n",
       "      <th></th>\n",
       "      <th>COUNT(*)</th>\n",
       "    </tr>\n",
       "  </thead>\n",
       "  <tbody>\n",
       "    <tr>\n",
       "      <th>0</th>\n",
       "      <td>2575</td>\n",
       "    </tr>\n",
       "  </tbody>\n",
       "</table>\n",
       "</div>"
      ],
      "text/plain": [
       "   COUNT(*)\n",
       "0      2575"
      ]
     },
     "execution_count": 16,
     "metadata": {},
     "output_type": "execute_result"
    }
   ],
   "source": [
    "pd.read_sql('SELECT COUNT(*) FROM account;', con=engine)"
   ]
  },
  {
   "cell_type": "code",
   "execution_count": 17,
   "metadata": {
    "collapsed": false
   },
   "outputs": [
    {
     "data": {
      "text/html": [
       "<div>\n",
       "<table border=\"1\" class=\"dataframe\">\n",
       "  <thead>\n",
       "    <tr style=\"text-align: right;\">\n",
       "      <th></th>\n",
       "      <th>COUNT(DISTINCT(meter_uuid))</th>\n",
       "    </tr>\n",
       "  </thead>\n",
       "  <tbody>\n",
       "    <tr>\n",
       "      <th>0</th>\n",
       "      <td>2575</td>\n",
       "    </tr>\n",
       "  </tbody>\n",
       "</table>\n",
       "</div>"
      ],
      "text/plain": [
       "   COUNT(DISTINCT(meter_uuid))\n",
       "0                         2575"
      ]
     },
     "execution_count": 17,
     "metadata": {},
     "output_type": "execute_result"
    }
   ],
   "source": [
    "pd.read_sql('SELECT COUNT(DISTINCT(meter_uuid)) FROM account;', con=engine)"
   ]
  },
  {
   "cell_type": "markdown",
   "metadata": {},
   "source": [
    "### Creating the intervention table"
   ]
  },
  {
   "cell_type": "markdown",
   "metadata": {},
   "source": [
    "The following will read the interventions data from the PEPS_data.xlsx file, add the appropriate account_uuid to each entry (if applicable, Null otherwise) by left-merging with the accounts_df table, then edits column names for a few columns to keep them under the requisite 64 characters, and then writes it to a mysql table. "
   ]
  },
  {
   "cell_type": "code",
   "execution_count": null,
   "metadata": {
    "collapsed": true
   },
   "outputs": [],
   "source": [
    "accounts_df['site_pair'] = accounts_df['school_city'] + \"_\" + accounts_df['school_site_name']\n",
    "\n",
    "interventions_df = pd.read_excel('PEPS_Data.xlsx', sheetname='Data- Approved EEPs')\n",
    "\n",
    "interventions_df['site_pair'] = interventions_df['Site City'] + \"_\" + interventions_df['Site Name']\n",
    "interventions_df = pd.merge(interventions_df,accounts_df[['site_pair','account_uuid']],how='left',on='site_pair')\n",
    "del interventions_df['site_pair']\n",
    "\n",
    "replacement_column_names = [\n",
    "    'Grant Amount Req Based on Single or Multiple Years Allocation',\n",
    "    'Grant Amount Req',\n",
    "    'Were Planning Funds Requested from CA Department of Education',\n",
    "    'Budget for Screening and Energy Audits Over Program Life',\n",
    "    'Budget for Prop 39 Program Assistance Over Program Life',\n",
    "    'Est First Yr Annual Electricity Production of PV Measure',\n",
    "    'Est Total Rebates Plus Oth Non-Repayable Funds for PV Measure',\n",
    "    'Est First Year Elec Prod of PPA Measure Generation System',\n",
    "    'Est PPA Measure Elec Gen as Percent of Baseline Elec Usage'\n",
    "]\n",
    "\n",
    "k = 0\n",
    "for j,i in enumerate(interventions_df.columns):\n",
    "    if len(i) > 64:\n",
    "        interventions_df.columns.values[j] = replacement_column_names[k]\n",
    "        k += 1\n",
    "\n",
    "conn.execute('DROP TABLE IF EXISTS `intervention`;')\n",
    "interventions_df.to_sql(name='intervention', con=engine, chunksize=100)\n",
    "conn.execute('ALTER TABLE intervention MODIFY account_uuid VARCHAR(20);')"
   ]
  },
  {
   "cell_type": "markdown",
   "metadata": {},
   "source": [
    "### Creating the meter_data table in the desired format"
   ]
  },
  {
   "cell_type": "markdown",
   "metadata": {},
   "source": [
    "Note: this is currently treating the meter_uuid, account_uuid, date and zip5 as integers, but they should more likely be treated as varchar, varchar, datetime and varchar, respectively."
   ]
  },
  {
   "cell_type": "code",
   "execution_count": 18,
   "metadata": {
    "collapsed": false
   },
   "outputs": [
    {
     "data": {
      "text/plain": [
       "<sqlalchemy.engine.result.ResultProxy at 0x10a4521d0>"
      ]
     },
     "execution_count": 18,
     "metadata": {},
     "output_type": "execute_result"
    }
   ],
   "source": [
    "create_table_sql = '''\n",
    "CREATE TABLE `meter_data` (\n",
    "  `meter_uuid` varchar(20) NOT NULL,\n",
    "  `account_uuid` varchar(20) NOT NULL,\n",
    "  `date` DATE NOT NULL,\n",
    "  `zip5` varchar(5) DEFAULT NULL,\n",
    "'''\n",
    "\n",
    "for i in range(1,97):\n",
    "    create_table_sql += \"`h\" + str(i) + \"` int(11) DEFAULT NULL,\\n\"\n",
    "\n",
    "create_table_sql += '''    \n",
    "  PRIMARY KEY (`meter_uuid`,`date`),\n",
    "  KEY `meter_uuid_idx` (`meter_uuid`),\n",
    "  KEY `account_uuid_idx` (`account_uuid`),\n",
    "  KEY `zip_Date_idx` (`date`,`zip5`),\n",
    "  KEY `zip_idx` (`zip5`)\n",
    ") ENGINE=InnoDB DEFAULT CHARSET=latin1;\n",
    "'''\n",
    "\n",
    "conn.execute('DROP TABLE IF EXISTS `meter_data`;')\n",
    "conn.execute(create_table_sql)"
   ]
  },
  {
   "cell_type": "markdown",
   "metadata": {},
   "source": [
    "### Fill the meter table with data from the csv files"
   ]
  },
  {
   "cell_type": "code",
   "execution_count": 19,
   "metadata": {
    "collapsed": true
   },
   "outputs": [],
   "source": [
    "usecols = ['agreement', 'start']\n",
    "for i in range(1,97):\n",
    "    usecols.append('d' + str(i))"
   ]
  },
  {
   "cell_type": "code",
   "execution_count": 20,
   "metadata": {
    "collapsed": true
   },
   "outputs": [],
   "source": [
    "colnames = ['meter_uuid', 'date']\n",
    "for i in range(1,97):\n",
    "    colnames.append('h' + str(i))"
   ]
  },
  {
   "cell_type": "code",
   "execution_count": 21,
   "metadata": {
    "collapsed": false
   },
   "outputs": [
    {
     "name": "stdout",
     "output_type": "stream",
     "text": [
      "failed sql insert. meter_uuid:8496493494, filename: 01100176106751_20122013...\n",
      "failed sql insert. meter_uuid:5637199274, filename: 01612340135426_20122013...\n",
      "failed sql insert. meter_uuid:5741361055, filename: 04615230123687_20122013...\n",
      "failed sql insert. meter_uuid:1626781530, filename: 06616220630038_20122013...\n",
      "failed sql insert. meter_uuid:6449693283, filename: 10739651030402_20122013...\n",
      "failed sql insert. meter_uuid:64274618, filename: 12755151232107_20122013...\n",
      "failed sql insert. meter_uuid:5158002781, filename: 15101571530302_20122013...\n",
      "failed sql insert. meter_uuid:5158002781, filename: 15101571530310_20122013...\n",
      "failed sql insert. meter_uuid:5158002772, filename: 15101576069496_20122013...\n",
      "failed sql insert. meter_uuid:7689247028, filename: 20652012030047_20122013...\n",
      "failed sql insert. meter_uuid:7689247028, filename: 20652012032357_20122013...\n",
      "failed sql insert. meter_uuid:9227619884, filename: 29663572930048_20122013...\n",
      "failed sql insert. meter_uuid:8417601597, filename: 29663572930089_20122013...\n",
      "failed sql insert. meter_uuid:5294406586, filename: 29663572930113_20122013...\n",
      "failed sql insert. meter_uuid:8417601597, filename: 29663572935500_20122013...\n",
      "failed sql insert. meter_uuid:5866366635, filename: 31668866031199_20122013...\n",
      "failed sql insert. meter_uuid:5866366071, filename: 31668866111694_20122013...\n",
      "failed sql insert. meter_uuid:3897600242, filename: 39103973930195_20122013...\n",
      "failed sql insert. meter_uuid:3897600242, filename: 39103973930468_20122013...\n",
      "failed sql insert. meter_uuid:3897600242, filename: 39103976069215_20122013...\n",
      "failed sql insert. meter_uuid:1470487436, filename: 39685020126011_20122013...\n",
      "failed sql insert. meter_uuid:1470487436, filename: 39685023930054_20122013...\n",
      "failed sql insert. meter_uuid:1470487436, filename: 39685023932308_20122013...\n",
      "failed sql insert. meter_uuid:9762196893, filename: 39685856110944_20122013...\n",
      "failed sql insert. meter_uuid:9762196864, filename: 39685856118921_20122013...\n",
      "failed sql insert. meter_uuid:6160206005, filename: 51714566053334_20122013...\n",
      "failed sql insert. meter_uuid:6274316019, filename: 52715065230057_20122013...\n",
      "failed sql insert. meter_uuid:9507670702, filename: 52715065231675_20122013...\n",
      "failed sql insert. meter_uuid:6274316019, filename: 52715065231709_20122013...\n",
      "failed sql insert. meter_uuid:4699942360, filename: 52716546053672_20122013...\n",
      "failed sql insert. meter_uuid:7605066005, filename: 53738335330030_20122013...\n",
      "failed sql insert. meter_uuid:7605066005, filename: 53738335337423_20122013...\n",
      "failed sql insert. meter_uuid:924264005, filename: 54722236054449_20122013...\n",
      "failed sql insert. meter_uuid:6687384031, filename: 57727106056477_20122013...\n",
      "failed sql insert. meter_uuid:8496493494, filename: 01100176106751_20132014...\n",
      "failed sql insert. meter_uuid:5637199274, filename: 01612340135426_20132014...\n",
      "failed sql insert. meter_uuid:4843924951, filename: 01612590112789_20132014...\n",
      "failed sql insert. meter_uuid:184413092, filename: 01612590115576_20132014...\n",
      "failed sql insert. meter_uuid:9143215870, filename: 01612590115592_20132014...\n",
      "failed sql insert. meter_uuid:8446677162, filename: 01612590130575_20132014...\n",
      "failed sql insert. meter_uuid:9936841295, filename: 01612590132688_20132014...\n",
      "failed sql insert. meter_uuid:814914904, filename: 01612596001903_20132014...\n",
      "failed sql insert. meter_uuid:4219809177, filename: 01612596002018_20132014...\n",
      "failed sql insert. meter_uuid:9560371125, filename: 01612596002042_20132014...\n",
      "failed sql insert. meter_uuid:9210112255, filename: 01612596002075_20132014...\n",
      "failed sql insert. meter_uuid:4373591879, filename: 01612596002190_20132014...\n",
      "failed sql insert. meter_uuid:1873565595, filename: 01612596002273_20132014...\n",
      "failed sql insert. meter_uuid:5760377907, filename: 01612596057020_20132014...\n",
      "failed sql insert. meter_uuid:9936841295, filename: 01612596096523_20132014...\n",
      "failed sql insert. meter_uuid:9210112806, filename: 01612596118616_20132014...\n",
      "failed sql insert. meter_uuid:4450405016, filename: 01613090114421_20132014...\n",
      "failed sql insert. meter_uuid:3663088379, filename: 01613090137745_20132014...\n",
      "failed sql insert. meter_uuid:4193207243, filename: 04614996003198_20132014...\n",
      "failed sql insert. meter_uuid:5283008065, filename: 04615076003230_20132014...\n",
      "failed sql insert. meter_uuid:7241342687, filename: 04615150437566_20132014...\n",
      "failed sql insert. meter_uuid:5741361913, filename: 04615230123687_20132014...\n",
      "failed sql insert. meter_uuid:1626781530, filename: 06616220630038_20132014...\n",
      "failed sql insert. meter_uuid:1783024534, filename: 07616486003594_20132014...\n",
      "failed sql insert. meter_uuid:1783024603, filename: 07616486057178_20132014...\n",
      "failed sql insert. meter_uuid:1783024380, filename: 07616486113104_20132014...\n",
      "failed sql insert. meter_uuid:4605906314, filename: 07617540730424_20132014...\n",
      "failed sql insert. meter_uuid:4605906314, filename: 07617540731836_20132014...\n",
      "failed sql insert. meter_uuid:4605906314, filename: 07617546004030_20132014...\n",
      "failed sql insert. meter_uuid:4605906950, filename: 07617546004261_20132014...\n",
      "failed sql insert. meter_uuid:4605906314, filename: 07617546004378_20132014...\n",
      "failed sql insert. meter_uuid:2647606762, filename: 07617966119515_20132014...\n",
      "failed sql insert. meter_uuid:7001780659, filename: 09618530932756_20132014...\n",
      "failed sql insert. meter_uuid:7293441633, filename: 09619786109441_20132014...\n",
      "failed sql insert. meter_uuid:4148911005, filename: 10619946005730_20132014...\n",
      "failed sql insert. meter_uuid:785750409, filename: 10621170113555_20132014...\n",
      "failed sql insert. meter_uuid:819478743, filename: 10621171030071_20132014...\n",
      "failed sql insert. meter_uuid:5876764646, filename: 10621176109912_20132014...\n",
      "failed sql insert. meter_uuid:3137190125, filename: 10621581032150_20132014...\n",
      "failed sql insert. meter_uuid:1731247178, filename: 10621666103840_20132014...\n",
      "failed sql insert. meter_uuid:7853120415, filename: 10622571033695_20132014...\n",
      "failed sql insert. meter_uuid:710099874, filename: 10622571033729_20132014...\n",
      "failed sql insert. meter_uuid:9027438752, filename: 10623726007066_20132014...\n",
      "failed sql insert. meter_uuid:5574684250, filename: 10624141036086_20132014...\n",
      "failed sql insert. meter_uuid:7855478564, filename: 10625396007413_20132014...\n",
      "failed sql insert. meter_uuid:7855478564, filename: 10625396112387_20132014...\n",
      "failed sql insert. meter_uuid:2452456593, filename: 10738091030121_20132014...\n",
      "failed sql insert. meter_uuid:9494121565, filename: 10738096006001_20132014...\n",
      "failed sql insert. meter_uuid:7035788768, filename: 10738096006019_20132014...\n",
      "failed sql insert. meter_uuid:6449693283, filename: 10739651030402_20132014...\n",
      "failed sql insert. meter_uuid:3449703773, filename: 10739996006696_20132014...\n",
      "failed sql insert. meter_uuid:9220502768, filename: 10752341030352_20132014...\n",
      "failed sql insert. meter_uuid:9220502170, filename: 10752346007223_20132014...\n",
      "failed sql insert. meter_uuid:9956345333, filename: 10752751036938_20132014...\n",
      "failed sql insert. meter_uuid:822805690, filename: 10767786006613_20132014...\n",
      "failed sql insert. meter_uuid:6269283869, filename: 11626531132109_20132014...\n",
      "failed sql insert. meter_uuid:6269283869, filename: 11626536007546_20132014...\n",
      "failed sql insert. meter_uuid:3814277968, filename: 11626611130038_20132014...\n",
      "failed sql insert. meter_uuid:9921774924, filename: 11765621133701_20132014...\n",
      "failed sql insert. meter_uuid:5799287231, filename: 12628286007884_20132014...\n",
      "failed sql insert. meter_uuid:5799287231, filename: 12628286116289_20132014...\n",
      "failed sql insert. meter_uuid:4882085402, filename: 15634206009419_20132014...\n",
      "failed sql insert. meter_uuid:8810590779, filename: 15634610107987_20132014...\n",
      "failed sql insert. meter_uuid:1397614200, filename: 15634876009534_20132014...\n",
      "failed sql insert. meter_uuid:7298118698, filename: 15635291530252_20132014...\n",
      "failed sql insert. meter_uuid:1033036017, filename: 15635291535087_20132014...\n",
      "failed sql insert. meter_uuid:9793426297, filename: 15635786010003_20132014...\n",
      "failed sql insert. meter_uuid:7425241139, filename: 15637196009963_20132014...\n",
      "failed sql insert. meter_uuid:1936852700, filename: 15739081530229_20132014...\n",
      "failed sql insert. meter_uuid:5699695786, filename: 16638836010300_20132014...\n",
      "failed sql insert. meter_uuid:8012169270, filename: 16739326010573_20132014...\n",
      "failed sql insert. meter_uuid:9543437862, filename: 17640146107791_20132014...\n",
      "failed sql insert. meter_uuid:3366320082, filename: 17640486010656_20132014...\n",
      "failed sql insert. meter_uuid:4324472005, filename: 20651936023899_20132014...\n",
      "failed sql insert. meter_uuid:7689247688, filename: 20652012030047_20132014...\n",
      "failed sql insert. meter_uuid:7689247688, filename: 20652012032357_20132014...\n",
      "failed sql insert. meter_uuid:1050672188, filename: 21653346068308_20132014...\n",
      "failed sql insert. meter_uuid:852726682, filename: 21653756024392_20132014...\n",
      "failed sql insert. meter_uuid:8009829914, filename: 23656072334563_20132014...\n",
      "failed sql insert. meter_uuid:991326554, filename: 23739166025308_20132014...\n",
      "failed sql insert. meter_uuid:1961542917, filename: 24657636025589_20132014...\n",
      "failed sql insert. meter_uuid:2715917005, filename: 27660846026157_20132014...\n",
      "failed sql insert. meter_uuid:5420015004, filename: 27661676026629_20132014...\n",
      "failed sql insert. meter_uuid:2022597018, filename: 27738252730125_20132014...\n",
      "failed sql insert. meter_uuid:2022597018, filename: 27738252730141_20132014...\n",
      "failed sql insert. meter_uuid:8585073135, filename: 27754736066955_20132014...\n",
      "failed sql insert. meter_uuid:1802879791, filename: 29663160125013_20132014...\n",
      "failed sql insert. meter_uuid:1802879791, filename: 29663166027080_20132014...\n",
      "failed sql insert. meter_uuid:9227619884, filename: 29663572930048_20132014...\n",
      "failed sql insert. meter_uuid:5294406586, filename: 29663572930113_20132014...\n",
      "failed sql insert. meter_uuid:2234532249, filename: 31668526031157_20132014...\n",
      "failed sql insert. meter_uuid:5866366635, filename: 31668866031199_20132014...\n",
      "failed sql insert. meter_uuid:5866366071, filename: 31668866111694_20132014...\n",
      "failed sql insert. meter_uuid:9168988179, filename: 31750856118392_20132014...\n",
      "failed sql insert. meter_uuid:2980939608, filename: 35675536035133_20132014...\n",
      "failed sql insert. meter_uuid:7338366005, filename: 35675616035141_20132014...\n",
      "failed sql insert. meter_uuid:3897600242, filename: 39103973930195_20132014...\n",
      "failed sql insert. meter_uuid:3897600242, filename: 39103973930468_20132014...\n",
      "failed sql insert. meter_uuid:3897600242, filename: 39103976069215_20132014...\n",
      "failed sql insert. meter_uuid:1470487436, filename: 39685020126011_20132014...\n",
      "failed sql insert. meter_uuid:1470487436, filename: 39685023930054_20132014...\n",
      "failed sql insert. meter_uuid:1470487436, filename: 39685023932308_20132014...\n",
      "failed sql insert. meter_uuid:9762196893, filename: 39685856110944_20132014...\n",
      "failed sql insert. meter_uuid:9762196864, filename: 39685856118921_20132014...\n",
      "failed sql insert. meter_uuid:7160450384, filename: 39685930112565_20132014...\n",
      "failed sql insert. meter_uuid:9170967911, filename: 39686356042444_20132014...\n",
      "failed sql insert. meter_uuid:74665604, filename: 39686763937406_20132014...\n",
      "failed sql insert. meter_uuid:6178831276, filename: 39686766042543_20132014...\n",
      "failed sql insert. meter_uuid:9385851205, filename: 40687594030268_20132014...\n",
      "failed sql insert. meter_uuid:9925557005, filename: 40687916043186_20132014...\n",
      "failed sql insert. meter_uuid:1126746819, filename: 40754574035762_20132014...\n",
      "failed sql insert. meter_uuid:1316010027, filename: 41688746043509_20132014...\n",
      "failed sql insert. meter_uuid:3364357972, filename: 42691796045355_20132014...\n",
      "failed sql insert. meter_uuid:3364357972, filename: 42691796118434_20132014...\n",
      "failed sql insert. meter_uuid:5336697239, filename: 42693104234613_20132014...\n",
      "failed sql insert. meter_uuid:3230952005, filename: 42693284236345_20132014...\n",
      "failed sql insert. meter_uuid:4758521601, filename: 42693366046072_20132014...\n",
      "failed sql insert. meter_uuid:7012160280, filename: 43694190108126_20132014...\n",
      "failed sql insert. meter_uuid:2012155200, filename: 43694274330015_20132014...\n",
      "failed sql insert. meter_uuid:2012155185, filename: 43694274330031_20132014...\n",
      "failed sql insert. meter_uuid:2012155307, filename: 43694274330312_20132014...\n",
      "failed sql insert. meter_uuid:2012155185, filename: 43694274330353_20132014...\n",
      "failed sql insert. meter_uuid:2012155211, filename: 43694274334900_20132014...\n",
      "failed sql insert. meter_uuid:2012155022, filename: 43694274335428_20132014...\n",
      "failed sql insert. meter_uuid:8928866826, filename: 43694684332433_20132014...\n",
      "failed sql insert. meter_uuid:9439265391, filename: 43694846106991_20132014...\n",
      "failed sql insert. meter_uuid:8241368575, filename: 43695836095384_20132014...\n",
      "failed sql insert. meter_uuid:8241368575, filename: 43695836100325_20132014...\n",
      "failed sql insert. meter_uuid:8042840988, filename: 43696664330429_20132014...\n",
      "failed sql insert. meter_uuid:8042840485, filename: 43696664333522_20132014...\n",
      "failed sql insert. meter_uuid:8042840402, filename: 43696664333795_20132014...\n",
      "failed sql insert. meter_uuid:8042840586, filename: 43696664335949_20132014...\n",
      "failed sql insert. meter_uuid:8042840463, filename: 43696664337200_20132014...\n",
      "failed sql insert. meter_uuid:8042840036, filename: 43696666060107_20132014...\n",
      "failed sql insert. meter_uuid:8730915908, filename: 43733874331039_20132014...\n",
      "failed sql insert. meter_uuid:1021789005, filename: 44697326049563_20132014...\n",
      "failed sql insert. meter_uuid:3600913481, filename: 44697576049571_20132014...\n",
      "failed sql insert. meter_uuid:4412192005, filename: 44697736049613_20132014...\n",
      "failed sql insert. meter_uuid:9533035100, filename: 44697996119077_20132014...\n",
      "failed sql insert. meter_uuid:2949705947, filename: 44698074430179_20132014...\n",
      "failed sql insert. meter_uuid:2949705947, filename: 44698074436754_20132014...\n",
      "failed sql insert. meter_uuid:2949705616, filename: 44698076049852_20132014...\n",
      "failed sql insert. meter_uuid:8616361534, filename: 45698564530804_20132014...\n",
      "failed sql insert. meter_uuid:2078240023, filename: 45700036050330_20132014...\n",
      "failed sql insert. meter_uuid:428871894, filename: 45700116050348_20132014...\n",
      "failed sql insert. meter_uuid:2964449005, filename: 45700456050397_20132014...\n",
      "failed sql insert. meter_uuid:2928820015, filename: 45700866050439_20132014...\n",
      "failed sql insert. meter_uuid:4095528413, filename: 45701364530044_20132014...\n",
      "failed sql insert. meter_uuid:4741340411, filename: 48705654830022_20132014...\n",
      "failed sql insert. meter_uuid:2050193390, filename: 48705654830154_20132014...\n",
      "failed sql insert. meter_uuid:2050193390, filename: 48705654830162_20132014...\n",
      "failed sql insert. meter_uuid:4741340504, filename: 48705856103154_20132014...\n",
      "failed sql insert. meter_uuid:1338879785, filename: 51713735130117_20132014...\n",
      "failed sql insert. meter_uuid:1338879785, filename: 51713735132758_20132014...\n",
      "failed sql insert. meter_uuid:9507670702, filename: 52715065231675_20132014...\n",
      "failed sql insert. meter_uuid:4512013005, filename: 52715146053508_20132014...\n",
      "failed sql insert. meter_uuid:8126658005, filename: 52715306053524_20132014...\n",
      "failed sql insert. meter_uuid:8337510005, filename: 52715486053532_20132014...\n",
      "failed sql insert. meter_uuid:6926027235, filename: 52715636053557_20132014...\n",
      "failed sql insert. meter_uuid:3520643644, filename: 54717956053839_20132014...\n",
      "failed sql insert. meter_uuid:9299264205, filename: 54719696054126_20132014...\n",
      "failed sql insert. meter_uuid:379036775, filename: 54721406054373_20132014...\n",
      "failed sql insert. meter_uuid:924264622, filename: 54722236054449_20132014...\n",
      "failed sql insert. meter_uuid:9699670064, filename: 57726945739552_20132014...\n",
      "failed sql insert. meter_uuid:6687384031, filename: 57727106056477_20132014...\n",
      "failed sql insert. meter_uuid:2807621697, filename: 58727286056600_20132014...\n",
      "failed sql insert. meter_uuid:8496493494, filename: 01100176106751_20142015...\n",
      "failed sql insert. meter_uuid:5637199274, filename: 01612340135426_20142015...\n",
      "failed sql insert. meter_uuid:4843924951, filename: 01612590112789_20142015...\n",
      "failed sql insert. meter_uuid:184413092, filename: 01612590115576_20142015...\n",
      "failed sql insert. meter_uuid:9143215870, filename: 01612590115592_20142015...\n",
      "failed sql insert. meter_uuid:8446677746, filename: 01612590130575_20142015...\n",
      "failed sql insert. meter_uuid:9936841295, filename: 01612590132688_20142015...\n",
      "failed sql insert. meter_uuid:814914904, filename: 01612596001903_20142015...\n",
      "failed sql insert. meter_uuid:4219809177, filename: 01612596002018_20142015...\n",
      "failed sql insert. meter_uuid:9560371125, filename: 01612596002042_20142015...\n",
      "failed sql insert. meter_uuid:3574803057, filename: 01612596002075_20142015...\n",
      "failed sql insert. meter_uuid:4373591879, filename: 01612596002190_20142015...\n",
      "failed sql insert. meter_uuid:1873565595, filename: 01612596002273_20142015...\n",
      "failed sql insert. meter_uuid:5760377907, filename: 01612596057020_20142015...\n",
      "failed sql insert. meter_uuid:9936841295, filename: 01612596096523_20142015...\n",
      "failed sql insert. meter_uuid:9210112806, filename: 01612596118616_20142015...\n",
      "failed sql insert. meter_uuid:4450405016, filename: 01613090114421_20142015...\n",
      "failed sql insert. meter_uuid:3663088379, filename: 01613090137745_20142015...\n",
      "failed sql insert. meter_uuid:4193207243, filename: 04614996003198_20142015...\n",
      "failed sql insert. meter_uuid:5283008065, filename: 04615076003230_20142015...\n",
      "failed sql insert. meter_uuid:7241342687, filename: 04615150437566_20142015...\n",
      "failed sql insert. meter_uuid:5741361913, filename: 04615230123687_20142015...\n",
      "failed sql insert. meter_uuid:1626781530, filename: 06616220630038_20142015...\n",
      "failed sql insert. meter_uuid:1783024534, filename: 07616486003594_20142015...\n",
      "failed sql insert. meter_uuid:1783024603, filename: 07616486057178_20142015...\n",
      "failed sql insert. meter_uuid:1783024380, filename: 07616486113104_20142015...\n",
      "failed sql insert. meter_uuid:4605906314, filename: 07617540730424_20142015...\n",
      "failed sql insert. meter_uuid:4605906314, filename: 07617540731836_20142015...\n",
      "failed sql insert. meter_uuid:4605906397, filename: 07617540734764_20142015...\n",
      "failed sql insert. meter_uuid:4605906959, filename: 07617546004030_20142015...\n",
      "failed sql insert. meter_uuid:4605906950, filename: 07617546004261_20142015...\n",
      "failed sql insert. meter_uuid:4605906314, filename: 07617546004378_20142015...\n",
      "failed sql insert. meter_uuid:2647606762, filename: 07617966119515_20142015...\n",
      "failed sql insert. meter_uuid:7001780659, filename: 09618530932756_20142015...\n",
      "failed sql insert. meter_uuid:7293441633, filename: 09619786109441_20142015...\n",
      "failed sql insert. meter_uuid:4148911737, filename: 10619946005730_20142015...\n",
      "failed sql insert. meter_uuid:785750409, filename: 10621170113555_20142015...\n",
      "failed sql insert. meter_uuid:819478743, filename: 10621171030071_20142015...\n",
      "failed sql insert. meter_uuid:5876764646, filename: 10621176109912_20142015...\n",
      "failed sql insert. meter_uuid:3137190125, filename: 10621581032150_20142015...\n",
      "failed sql insert. meter_uuid:1731247178, filename: 10621666103840_20142015...\n",
      "failed sql insert. meter_uuid:7853120415, filename: 10622571033695_20142015...\n",
      "failed sql insert. meter_uuid:710099874, filename: 10622571033729_20142015...\n",
      "failed sql insert. meter_uuid:9027438752, filename: 10623726007066_20142015...\n",
      "failed sql insert. meter_uuid:5574684009, filename: 10624141036086_20142015...\n",
      "failed sql insert. meter_uuid:7855478564, filename: 10625396007413_20142015...\n",
      "failed sql insert. meter_uuid:7855478564, filename: 10625396112387_20142015...\n",
      "failed sql insert. meter_uuid:2452456593, filename: 10738091030121_20142015...\n",
      "failed sql insert. meter_uuid:9494121565, filename: 10738096006001_20142015...\n",
      "failed sql insert. meter_uuid:7035788768, filename: 10738096006019_20142015...\n",
      "failed sql insert. meter_uuid:6449693283, filename: 10739651030402_20142015...\n",
      "failed sql insert. meter_uuid:3449703773, filename: 10739996006696_20142015...\n",
      "failed sql insert. meter_uuid:9220502768, filename: 10752341030352_20142015...\n",
      "failed sql insert. meter_uuid:9220502170, filename: 10752346007223_20142015...\n",
      "failed sql insert. meter_uuid:9956345333, filename: 10752751036938_20142015...\n",
      "failed sql insert. meter_uuid:822805690, filename: 10767786006613_20142015...\n",
      "failed sql insert. meter_uuid:6269283869, filename: 11626531132109_20142015...\n",
      "failed sql insert. meter_uuid:6269283869, filename: 11626536007546_20142015...\n",
      "failed sql insert. meter_uuid:3814277968, filename: 11626611130038_20142015...\n",
      "failed sql insert. meter_uuid:9921774924, filename: 11765621133701_20142015...\n",
      "failed sql insert. meter_uuid:5799287231, filename: 12628286007884_20142015...\n",
      "failed sql insert. meter_uuid:5799287231, filename: 12628286116289_20142015...\n",
      "failed sql insert. meter_uuid:4882085402, filename: 15634206009419_20142015...\n",
      "failed sql insert. meter_uuid:8810590779, filename: 15634610107987_20142015...\n",
      "failed sql insert. meter_uuid:1397614200, filename: 15634876009534_20142015...\n",
      "failed sql insert. meter_uuid:7298118698, filename: 15635291530252_20142015...\n",
      "failed sql insert. meter_uuid:1033036017, filename: 15635291535087_20142015...\n",
      "failed sql insert. meter_uuid:9793426297, filename: 15635786010003_20142015...\n",
      "failed sql insert. meter_uuid:7425241139, filename: 15637196009963_20142015...\n",
      "failed sql insert. meter_uuid:1936852700, filename: 15739081530229_20142015...\n",
      "failed sql insert. meter_uuid:5699695786, filename: 16638836010300_20142015...\n",
      "failed sql insert. meter_uuid:8012169270, filename: 16739326010573_20142015...\n",
      "failed sql insert. meter_uuid:9543437862, filename: 17640146107791_20142015...\n",
      "failed sql insert. meter_uuid:3366320082, filename: 17640486010656_20142015...\n",
      "failed sql insert. meter_uuid:2237844448, filename: 20651936023899_20142015...\n",
      "failed sql insert. meter_uuid:7689247688, filename: 20652012030047_20142015...\n",
      "failed sql insert. meter_uuid:7689247688, filename: 20652012032357_20142015...\n",
      "failed sql insert. meter_uuid:1050672188, filename: 21653346068308_20142015...\n",
      "failed sql insert. meter_uuid:852726682, filename: 21653756024392_20142015...\n",
      "failed sql insert. meter_uuid:8009829914, filename: 23656072334563_20142015...\n",
      "failed sql insert. meter_uuid:991326554, filename: 23739166025308_20142015...\n",
      "failed sql insert. meter_uuid:1961542917, filename: 24657636025589_20142015...\n",
      "failed sql insert. meter_uuid:2715917567, filename: 27660846026157_20142015...\n",
      "failed sql insert. meter_uuid:5420015088, filename: 27661676026629_20142015...\n",
      "failed sql insert. meter_uuid:2022597018, filename: 27738252730125_20142015...\n",
      "failed sql insert. meter_uuid:2022597018, filename: 27738252730141_20142015...\n",
      "failed sql insert. meter_uuid:8585073135, filename: 27754736066955_20142015...\n",
      "failed sql insert. meter_uuid:1802879791, filename: 29663160125013_20142015...\n",
      "failed sql insert. meter_uuid:1802879791, filename: 29663166027080_20142015...\n",
      "failed sql insert. meter_uuid:9227619884, filename: 29663572930048_20142015...\n",
      "failed sql insert. meter_uuid:5294406586, filename: 29663572930113_20142015...\n",
      "failed sql insert. meter_uuid:2234532249, filename: 31668526031157_20142015...\n",
      "failed sql insert. meter_uuid:5866366090, filename: 31668866031199_20142015...\n",
      "failed sql insert. meter_uuid:5866366071, filename: 31668866111694_20142015...\n",
      "failed sql insert. meter_uuid:9168988179, filename: 31750856118392_20142015...\n",
      "failed sql insert. meter_uuid:2980939608, filename: 35675536035133_20142015...\n",
      "failed sql insert. meter_uuid:7338366128, filename: 35675616035141_20142015...\n",
      "failed sql insert. meter_uuid:3897600242, filename: 39103973930195_20142015...\n",
      "failed sql insert. meter_uuid:3897600242, filename: 39103973930468_20142015...\n",
      "failed sql insert. meter_uuid:3897600242, filename: 39103976069215_20142015...\n",
      "failed sql insert. meter_uuid:1470487436, filename: 39685020126011_20142015...\n",
      "failed sql insert. meter_uuid:1470487436, filename: 39685023930054_20142015...\n",
      "failed sql insert. meter_uuid:1470487436, filename: 39685023932308_20142015...\n",
      "failed sql insert. meter_uuid:9762196893, filename: 39685856110944_20142015...\n",
      "failed sql insert. meter_uuid:9762196864, filename: 39685856118921_20142015...\n",
      "failed sql insert. meter_uuid:3137160274, filename: 39685930112565_20142015...\n",
      "failed sql insert. meter_uuid:9170967911, filename: 39686356042444_20142015...\n",
      "failed sql insert. meter_uuid:74665604, filename: 39686763937406_20142015...\n",
      "failed sql insert. meter_uuid:6178831276, filename: 39686766042543_20142015...\n",
      "failed sql insert. meter_uuid:7793407088, filename: 40687594030268_20142015...\n",
      "failed sql insert. meter_uuid:7793407360, filename: 40687594030557_20142015...\n",
      "failed sql insert. meter_uuid:7793407088, filename: 40687594033205_20142015...\n",
      "failed sql insert. meter_uuid:7793407200, filename: 40687596043012_20142015...\n",
      "failed sql insert. meter_uuid:7793407088, filename: 40687596043020_20142015...\n",
      "failed sql insert. meter_uuid:7793407088, filename: 40687596043038_20142015...\n",
      "failed sql insert. meter_uuid:7793407088, filename: 40687596043046_20142015...\n",
      "failed sql insert. meter_uuid:7793407088, filename: 40687596043053_20142015...\n",
      "failed sql insert. meter_uuid:7793407088, filename: 40687596043061_20142015...\n",
      "failed sql insert. meter_uuid:7793407088, filename: 40687596043079_20142015...\n",
      "failed sql insert. meter_uuid:7793407088, filename: 40687596043087_20142015...\n",
      "failed sql insert. meter_uuid:7793407949, filename: 40687596043095_20142015...\n",
      "failed sql insert. meter_uuid:7793407088, filename: 40687596043103_20142015...\n",
      "failed sql insert. meter_uuid:7793407088, filename: 40687596043111_20142015...\n",
      "failed sql insert. meter_uuid:7793407088, filename: 40687596043129_20142015...\n",
      "failed sql insert. meter_uuid:7793407088, filename: 40687596109342_20142015...\n",
      "failed sql insert. meter_uuid:9925557005, filename: 40687916043186_20142015...\n",
      "failed sql insert. meter_uuid:1126746757, filename: 40754574035762_20142015...\n",
      "failed sql insert. meter_uuid:1316010027, filename: 41688746043509_20142015...\n",
      "failed sql insert. meter_uuid:3364357972, filename: 42691796045355_20142015...\n",
      "failed sql insert. meter_uuid:3364357972, filename: 42691796118434_20142015...\n",
      "failed sql insert. meter_uuid:5336697239, filename: 42693104234613_20142015...\n",
      "failed sql insert. meter_uuid:3230952005, filename: 42693284236345_20142015...\n",
      "failed sql insert. meter_uuid:4758521601, filename: 42693366046072_20142015...\n",
      "failed sql insert. meter_uuid:7012160961, filename: 43694190108126_20142015...\n",
      "failed sql insert. meter_uuid:2012155200, filename: 43694274330015_20142015...\n",
      "failed sql insert. meter_uuid:2012155185, filename: 43694274330031_20142015...\n",
      "failed sql insert. meter_uuid:2012155307, filename: 43694274330312_20142015...\n",
      "failed sql insert. meter_uuid:2012155185, filename: 43694274330353_20142015...\n",
      "failed sql insert. meter_uuid:2012155211, filename: 43694274334900_20142015...\n",
      "failed sql insert. meter_uuid:2012155022, filename: 43694274335428_20142015...\n",
      "failed sql insert. meter_uuid:8928866826, filename: 43694684332433_20142015...\n",
      "failed sql insert. meter_uuid:9439265391, filename: 43694846106991_20142015...\n",
      "failed sql insert. meter_uuid:8241368575, filename: 43695836095384_20142015...\n",
      "failed sql insert. meter_uuid:8241368575, filename: 43695836100325_20142015...\n",
      "failed sql insert. meter_uuid:8042840988, filename: 43696664330429_20142015...\n",
      "failed sql insert. meter_uuid:8042840485, filename: 43696664333522_20142015...\n",
      "failed sql insert. meter_uuid:8042840402, filename: 43696664333795_20142015...\n",
      "failed sql insert. meter_uuid:8042840586, filename: 43696664335949_20142015...\n",
      "failed sql insert. meter_uuid:8042840463, filename: 43696664337200_20142015...\n",
      "failed sql insert. meter_uuid:8042840036, filename: 43696666060107_20142015...\n",
      "failed sql insert. meter_uuid:8730915908, filename: 43733874331039_20142015...\n",
      "failed sql insert. meter_uuid:1021789843, filename: 44697326049563_20142015...\n",
      "failed sql insert. meter_uuid:3600913481, filename: 44697576049571_20142015...\n",
      "failed sql insert. meter_uuid:4412192005, filename: 44697736049613_20142015...\n",
      "failed sql insert. meter_uuid:9533035100, filename: 44697996119077_20142015...\n",
      "failed sql insert. meter_uuid:2949705947, filename: 44698074430179_20142015...\n",
      "failed sql insert. meter_uuid:2949705947, filename: 44698074436754_20142015...\n",
      "failed sql insert. meter_uuid:2949705616, filename: 44698076049852_20142015...\n",
      "failed sql insert. meter_uuid:8616361534, filename: 45698564530804_20142015...\n",
      "failed sql insert. meter_uuid:2078240023, filename: 45700036050330_20142015...\n",
      "failed sql insert. meter_uuid:428871894, filename: 45700116050348_20142015...\n",
      "failed sql insert. meter_uuid:1050567005, filename: 45700376050389_20142015...\n",
      "failed sql insert. meter_uuid:2964449420, filename: 45700456050397_20142015...\n",
      "failed sql insert. meter_uuid:2928820015, filename: 45700866050439_20142015...\n",
      "failed sql insert. meter_uuid:4095528413, filename: 45701364530044_20142015...\n",
      "failed sql insert. meter_uuid:4741340411, filename: 48705654830022_20142015...\n",
      "failed sql insert. meter_uuid:2050193390, filename: 48705654830154_20142015...\n",
      "failed sql insert. meter_uuid:2050193390, filename: 48705654830162_20142015...\n",
      "failed sql insert. meter_uuid:4741340504, filename: 48705856103154_20142015...\n",
      "failed sql insert. meter_uuid:1338879785, filename: 51713735130117_20142015...\n",
      "failed sql insert. meter_uuid:1338879785, filename: 51713735132758_20142015...\n",
      "failed sql insert. meter_uuid:9507670514, filename: 52715065231675_20142015...\n",
      "failed sql insert. meter_uuid:4512013005, filename: 52715146053508_20142015...\n",
      "failed sql insert. meter_uuid:8126658005, filename: 52715306053524_20142015...\n",
      "failed sql insert. meter_uuid:8337510005, filename: 52715486053532_20142015...\n",
      "failed sql insert. meter_uuid:6926027235, filename: 52715636053557_20142015...\n",
      "failed sql insert. meter_uuid:3520643644, filename: 54717956053839_20142015...\n",
      "failed sql insert. meter_uuid:9299264205, filename: 54719696054126_20142015...\n",
      "failed sql insert. meter_uuid:379036775, filename: 54721406054373_20142015...\n",
      "failed sql insert. meter_uuid:924264579, filename: 54722236054449_20142015...\n",
      "failed sql insert. meter_uuid:9699670064, filename: 57726945739552_20142015...\n",
      "failed sql insert. meter_uuid:6687384031, filename: 57727106056477_20142015...\n",
      "failed sql insert. meter_uuid:2807621697, filename: 58727286056600_20142015...\n"
     ]
    }
   ],
   "source": [
    "for root, dirs, files in os.walk(csv_dir):\n",
    "    for f in files:\n",
    "        if f.endswith('_INTERVAL.csv'):\n",
    "            df = pd.read_csv(os.path.join(root,f), usecols=usecols)\n",
    "            if len(df) > 0:\n",
    "                df.columns = colnames\n",
    "                df = df.drop_duplicates()\n",
    "                for i in range(1,97):\n",
    "                    df['h' + str(i)] = df['h' + str(i)] * 1000\n",
    "                df = pd.merge(df,accounts_df[['meter_uuid','account_uuid','zip5']],on='meter_uuid')\n",
    "                df['date'] = pd.to_datetime(df['date'], unit='s')\n",
    "                try:\n",
    "                    df.to_sql(name='meter_data', con=engine, if_exists='append', index=False)\n",
    "                except:\n",
    "                    print \"failed sql insert. meter_uuid:\" + str(df['meter_uuid'][0]) + \", filename: \" + f.split(\"_Pacific\")[0] + \"...\""
   ]
  },
  {
   "cell_type": "markdown",
   "metadata": {},
   "source": [
    "### Quick tests to make sure it's done so properly"
   ]
  },
  {
   "cell_type": "code",
   "execution_count": 22,
   "metadata": {
    "collapsed": false
   },
   "outputs": [
    {
     "data": {
      "text/html": [
       "<div>\n",
       "<table border=\"1\" class=\"dataframe\">\n",
       "  <thead>\n",
       "    <tr style=\"text-align: right;\">\n",
       "      <th></th>\n",
       "      <th>meter_uuid</th>\n",
       "      <th>account_uuid</th>\n",
       "      <th>date</th>\n",
       "      <th>zip5</th>\n",
       "      <th>h1</th>\n",
       "      <th>h2</th>\n",
       "      <th>h3</th>\n",
       "      <th>h4</th>\n",
       "      <th>h5</th>\n",
       "      <th>h6</th>\n",
       "      <th>...</th>\n",
       "      <th>h87</th>\n",
       "      <th>h88</th>\n",
       "      <th>h89</th>\n",
       "      <th>h90</th>\n",
       "      <th>h91</th>\n",
       "      <th>h92</th>\n",
       "      <th>h93</th>\n",
       "      <th>h94</th>\n",
       "      <th>h95</th>\n",
       "      <th>h96</th>\n",
       "    </tr>\n",
       "  </thead>\n",
       "  <tbody>\n",
       "    <tr>\n",
       "      <th>0</th>\n",
       "      <td>1021789005</td>\n",
       "      <td>44697326049563</td>\n",
       "      <td>2014-01-07</td>\n",
       "      <td>95060</td>\n",
       "      <td>2880</td>\n",
       "      <td>0</td>\n",
       "      <td>6160</td>\n",
       "      <td>2720</td>\n",
       "      <td>2240</td>\n",
       "      <td>2480</td>\n",
       "      <td>...</td>\n",
       "      <td>NaN</td>\n",
       "      <td>NaN</td>\n",
       "      <td>NaN</td>\n",
       "      <td>NaN</td>\n",
       "      <td>NaN</td>\n",
       "      <td>NaN</td>\n",
       "      <td>NaN</td>\n",
       "      <td>NaN</td>\n",
       "      <td>NaN</td>\n",
       "      <td>NaN</td>\n",
       "    </tr>\n",
       "    <tr>\n",
       "      <th>1</th>\n",
       "      <td>1021789379</td>\n",
       "      <td>44697326049563</td>\n",
       "      <td>2014-01-08</td>\n",
       "      <td>95060</td>\n",
       "      <td>880</td>\n",
       "      <td>880</td>\n",
       "      <td>960</td>\n",
       "      <td>880</td>\n",
       "      <td>800</td>\n",
       "      <td>880</td>\n",
       "      <td>...</td>\n",
       "      <td>1600.0</td>\n",
       "      <td>1680.0</td>\n",
       "      <td>1600.0</td>\n",
       "      <td>1760.0</td>\n",
       "      <td>1600.0</td>\n",
       "      <td>1600.0</td>\n",
       "      <td>1360.0</td>\n",
       "      <td>1120.0</td>\n",
       "      <td>1120.0</td>\n",
       "      <td>1280.0</td>\n",
       "    </tr>\n",
       "    <tr>\n",
       "      <th>2</th>\n",
       "      <td>1021789379</td>\n",
       "      <td>44697326049563</td>\n",
       "      <td>2014-01-09</td>\n",
       "      <td>95060</td>\n",
       "      <td>1040</td>\n",
       "      <td>1440</td>\n",
       "      <td>1120</td>\n",
       "      <td>1200</td>\n",
       "      <td>1120</td>\n",
       "      <td>1120</td>\n",
       "      <td>...</td>\n",
       "      <td>960.0</td>\n",
       "      <td>720.0</td>\n",
       "      <td>880.0</td>\n",
       "      <td>880.0</td>\n",
       "      <td>880.0</td>\n",
       "      <td>880.0</td>\n",
       "      <td>800.0</td>\n",
       "      <td>960.0</td>\n",
       "      <td>880.0</td>\n",
       "      <td>880.0</td>\n",
       "    </tr>\n",
       "  </tbody>\n",
       "</table>\n",
       "<p>3 rows × 100 columns</p>\n",
       "</div>"
      ],
      "text/plain": [
       "   meter_uuid    account_uuid        date   zip5    h1    h2    h3    h4  \\\n",
       "0  1021789005  44697326049563  2014-01-07  95060  2880     0  6160  2720   \n",
       "1  1021789379  44697326049563  2014-01-08  95060   880   880   960   880   \n",
       "2  1021789379  44697326049563  2014-01-09  95060  1040  1440  1120  1200   \n",
       "\n",
       "     h5    h6   ...       h87     h88     h89     h90     h91     h92     h93  \\\n",
       "0  2240  2480   ...       NaN     NaN     NaN     NaN     NaN     NaN     NaN   \n",
       "1   800   880   ...    1600.0  1680.0  1600.0  1760.0  1600.0  1600.0  1360.0   \n",
       "2  1120  1120   ...     960.0   720.0   880.0   880.0   880.0   880.0   800.0   \n",
       "\n",
       "      h94     h95     h96  \n",
       "0     NaN     NaN     NaN  \n",
       "1  1120.0  1120.0  1280.0  \n",
       "2   960.0   880.0   880.0  \n",
       "\n",
       "[3 rows x 100 columns]"
      ]
     },
     "execution_count": 22,
     "metadata": {},
     "output_type": "execute_result"
    }
   ],
   "source": [
    "pd.read_sql('SELECT * FROM meter_data LIMIT 3;', con=engine)"
   ]
  },
  {
   "cell_type": "code",
   "execution_count": 23,
   "metadata": {
    "collapsed": false
   },
   "outputs": [
    {
     "data": {
      "text/html": [
       "<div>\n",
       "<table border=\"1\" class=\"dataframe\">\n",
       "  <thead>\n",
       "    <tr style=\"text-align: right;\">\n",
       "      <th></th>\n",
       "      <th>COUNT(*)</th>\n",
       "    </tr>\n",
       "  </thead>\n",
       "  <tbody>\n",
       "    <tr>\n",
       "      <th>0</th>\n",
       "      <td>1286757</td>\n",
       "    </tr>\n",
       "  </tbody>\n",
       "</table>\n",
       "</div>"
      ],
      "text/plain": [
       "   COUNT(*)\n",
       "0   1286757"
      ]
     },
     "execution_count": 23,
     "metadata": {},
     "output_type": "execute_result"
    }
   ],
   "source": [
    "pd.read_sql('SELECT COUNT(*) FROM meter_data;', con=engine)"
   ]
  },
  {
   "cell_type": "markdown",
   "metadata": {
    "collapsed": true
   },
   "source": [
    "### Coordinating between tables to make sure they match"
   ]
  },
  {
   "cell_type": "code",
   "execution_count": 24,
   "metadata": {
    "collapsed": false
   },
   "outputs": [
    {
     "data": {
      "text/plain": [
       "<sqlalchemy.engine.result.ResultProxy at 0x10a1268d0>"
      ]
     },
     "execution_count": 24,
     "metadata": {},
     "output_type": "execute_result"
    }
   ],
   "source": [
    "conn.execute('DELETE FROM account WHERE meter_uuid NOT IN (SELECT DISTINCT(meter_uuid) FROM meter_data);')"
   ]
  },
  {
   "cell_type": "code",
   "execution_count": 26,
   "metadata": {
    "collapsed": false
   },
   "outputs": [
    {
     "data": {
      "text/html": [
       "<div>\n",
       "<table border=\"1\" class=\"dataframe\">\n",
       "  <thead>\n",
       "    <tr style=\"text-align: right;\">\n",
       "      <th></th>\n",
       "      <th>COUNT(*)</th>\n",
       "    </tr>\n",
       "  </thead>\n",
       "  <tbody>\n",
       "    <tr>\n",
       "      <th>0</th>\n",
       "      <td>2186</td>\n",
       "    </tr>\n",
       "  </tbody>\n",
       "</table>\n",
       "</div>"
      ],
      "text/plain": [
       "   COUNT(*)\n",
       "0      2186"
      ]
     },
     "execution_count": 26,
     "metadata": {},
     "output_type": "execute_result"
    }
   ],
   "source": [
    "pd.read_sql('SELECT COUNT(*) FROM account;', con=engine)"
   ]
  },
  {
   "cell_type": "markdown",
   "metadata": {},
   "source": [
    "### Minor cludge that could be done better"
   ]
  },
  {
   "cell_type": "markdown",
   "metadata": {},
   "source": [
    "This meter_uuid had only one meter_data day record associated with it for some reason, which would cause errors if allowed to stay in the database."
   ]
  },
  {
   "cell_type": "code",
   "execution_count": 27,
   "metadata": {
    "collapsed": false
   },
   "outputs": [
    {
     "data": {
      "text/plain": [
       "<sqlalchemy.engine.result.ResultProxy at 0x10a126890>"
      ]
     },
     "execution_count": 27,
     "metadata": {},
     "output_type": "execute_result"
    }
   ],
   "source": [
    "conn.execute(\"DELETE FROM account WHERE meter_uuid = '1021789005';\")\n",
    "conn.execute(\"DELETE FROM meter_data WHERE meter_uuid = '1021789005';\")"
   ]
  }
 ],
 "metadata": {
  "kernelspec": {
   "display_name": "Python 2",
   "language": "python",
   "name": "python2"
  },
  "language_info": {
   "codemirror_mode": {
    "name": "ipython",
    "version": 2
   },
   "file_extension": ".py",
   "mimetype": "text/x-python",
   "name": "python",
   "nbconvert_exporter": "python",
   "pygments_lexer": "ipython2",
   "version": "2.7.10"
  }
 },
 "nbformat": 4,
 "nbformat_minor": 1
}
